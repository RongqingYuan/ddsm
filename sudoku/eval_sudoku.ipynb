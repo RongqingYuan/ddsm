{
 "cells": [
  {
   "cell_type": "markdown",
   "metadata": {},
   "source": [
    "# Notebook for Evaluaing Sudoku Model "
   ]
  },
  {
   "cell_type": "code",
   "execution_count": 1,
   "metadata": {},
   "outputs": [],
   "source": [
    "import os\n",
    "os.environ[\"CUDA_VISIBLE_DEVICES\"]=\"1\""
   ]
  },
  {
   "cell_type": "code",
   "execution_count": 40,
   "metadata": {},
   "outputs": [],
   "source": [
    "import torch\n",
    "import torch.nn as nn\n",
    "import torch.nn.functional as F\n",
    "import torchvision.transforms as transforms\n",
    "from torch.utils.data import Dataset, DataLoader\n",
    "\n",
    "import csv\n",
    "import math\n",
    "import numpy as np\n",
    "import functools\n",
    "import random, copy\n",
    "import urllib.request\n",
    "import zipfile\n",
    "\n",
    "\n",
    "import sys \n",
    "sys.path.append(\"../\")\n",
    "from ddsm import *"
   ]
  },
  {
   "cell_type": "markdown",
   "metadata": {},
   "source": [
    "Let's load presampled noise "
   ]
  },
  {
   "cell_type": "code",
   "execution_count": 3,
   "metadata": {},
   "outputs": [],
   "source": [
    "v_one, v_zero, v_one_loggrad, v_zero_loggrad, timepoints = torch.load('steps400.cat9.time1.0.samples100000.pth')\n",
    "torch.set_default_dtype(torch.float32)\n"
   ]
  },
  {
   "cell_type": "markdown",
   "metadata": {},
   "source": [
    "Let's plot it "
   ]
  },
  {
   "cell_type": "code",
   "execution_count": 4,
   "metadata": {},
   "outputs": [
    {
     "data": {
      "text/plain": [
       "[<matplotlib.lines.Line2D at 0x2aae31993670>]"
      ]
     },
     "execution_count": 4,
     "metadata": {},
     "output_type": "execute_result"
    },
    {
     "data": {
      "image/png": "[encoded data removed]",
      "text/plain": [
       "<Figure size 640x480 with 1 Axes>"
      ]
     },
     "metadata": {},
     "output_type": "display_data"
    }
   ],
   "source": [
    "from matplotlib import pyplot as plt\n",
    "%matplotlib inline\n",
    "plt.plot(v_one[:,-1,0].detach().cpu(), v_one_loggrad[:,-1,0].detach().cpu(),'.')"
   ]
  },
  {
   "cell_type": "markdown",
   "metadata": {},
   "source": [
    "We define several functions"
   ]
  },
  {
   "cell_type": "code",
   "execution_count": 5,
   "metadata": {},
   "outputs": [],
   "source": [
    "def construct_puzzle_solution():\n",
    "    \"\"\"\n",
    "    Randomly arrange numbers in a grid while making all rows, columns and\n",
    "    squares (sub-grids) contain the numbers 1 through 9.\n",
    "    For example, \"sample\" (above) could be the output of this function.\n",
    "    \"\"\"\n",
    "    \n",
    "    # Loop until we're able to fill all 81 cells with numbers, while\n",
    "    # satisfying the constraints above.\n",
    "    while True:\n",
    "        try:\n",
    "            puzzle  = [[0]*9 for i in range(9)] # start with blank puzzle\n",
    "            rows    = [set(range(1,10)) for i in range(9)] # set of available\n",
    "            columns = [set(range(1,10)) for i in range(9)] #   numbers for each\n",
    "            squares = [set(range(1,10)) for i in range(9)] #   row, column and square\n",
    "            for i in range(9):\n",
    "                for j in range(9):\n",
    "                    # pick a number for cell (i,j) from the set of remaining available numbers\n",
    "                    choices = rows[i].intersection(columns[j]).intersection(squares[(i//3)*3 + j//3])\n",
    "                    choice  = random.choice(list(choices))\n",
    "        \n",
    "                    puzzle[i][j] = choice\n",
    "        \n",
    "                    rows[i].discard(choice)\n",
    "                    columns[j].discard(choice)\n",
    "                    squares[(i//3)*3 + j//3].discard(choice)\n",
    "\n",
    "            # success! every cell is filled.\n",
    "            return puzzle\n",
    "            \n",
    "        except IndexError:\n",
    "            # if there is an IndexError, we have worked ourselves in a corner (we just start over)\n",
    "            pass\n",
    "\n",
    "def pluck(puzzle, n=0):\n",
    "\n",
    "    \"\"\"\n",
    "    Randomly pluck out cells (numbers) from the solved puzzle grid, ensuring that any\n",
    "    plucked number can still be deduced from the remaining cells.\n",
    "    For deduction to be possible, each other cell in the plucked number's row, column,\n",
    "    or square must not be able to contain that number.\n",
    "\n",
    "    Answers the question: can the cell (i,j) in the puzzle \"puz\" contain the number\n",
    "    in cell \"c\"? \"\"\"\n",
    "    def canBeA(puz, i, j, c):\n",
    "        v = puz[c//9][c%9]\n",
    "        if puz[i][j] == v: return True\n",
    "        if puz[i][j] in range(1,10): return False\n",
    "            \n",
    "        for m in range(9): # test row, col, square\n",
    "            # if not the cell itself, and the mth cell of the group contains the value v, then \"no\"\n",
    "            if not (m==c//9 and j==c%9) and puz[m][j] == v: return False\n",
    "            if not (i==c//9 and m==c%9) and puz[i][m] == v: return False\n",
    "            if not ((i//3)*3 + m//3==c//9 and (j//3)*3 + m%3==c%9) and puz[(i//3)*3 + m//3][(j//3)*3 + m%3] == v:\n",
    "                return False\n",
    "\n",
    "        return True\n",
    "\n",
    "\n",
    "    \"\"\"\n",
    "    starts with a set of all 81 cells, and tries to remove one (randomly) at a time\n",
    "    but not before checking that the cell can still be deduced from the remaining cells. \"\"\"\n",
    "    cells     = set(range(81))\n",
    "    cellsleft = cells.copy()\n",
    "    while len(cells) > n and len(cellsleft):\n",
    "        cell = random.choice(list(cellsleft)) # choose a cell from ones we haven't tried\n",
    "        cellsleft.discard(cell) # record that we are trying this cell\n",
    "\n",
    "        # row, col and square record whether another cell in those groups could also take\n",
    "        # on the value we are trying to pluck. (If another cell can, then we can't use the\n",
    "        # group to deduce this value.) If all three groups are True, then we cannot pluck\n",
    "        # this cell and must try another one.\n",
    "        row = col = square = False\n",
    "\n",
    "        for i in range(9):\n",
    "            if i != cell//9:\n",
    "                if canBeA(puzzle, i, cell%9, cell): row = True\n",
    "            if i != cell%9:\n",
    "                if canBeA(puzzle, cell//9, i, cell): col = True\n",
    "            if not (((cell//9)//3)*3 + i//3 == cell//9 and ((cell//9)%3)*3 + i%3 == cell%9):\n",
    "                if canBeA(puzzle, ((cell//9)//3)*3 + i//3, ((cell//9)%3)*3 + i%3, cell): square = True\n",
    "\n",
    "        if row and col and square:\n",
    "            continue # could not pluck this cell, try again.\n",
    "        else:\n",
    "            # this is a pluckable cell!\n",
    "            puzzle[cell//9][cell%9] = 0 # 0 denotes a blank cell\n",
    "            cells.discard(cell) # remove from the set of visible cells (pluck it)\n",
    "            # we don't need to reset \"cellsleft\" because if a cell was not pluckable\n",
    "            # earlier, then it will still not be pluckable now (with less information\n",
    "            # on the board).\n",
    "\n",
    "    # This is the puzzle we found, in all its glory.\n",
    "    return (puzzle, len(cells))\n",
    "    \n",
    "    \n",
    "\"\"\"\n",
    "That's it.\n",
    "If we want to make a puzzle we can do this:\n",
    "    pluck(construct_puzzle_solution())\n",
    "    \n",
    "The following functions are convenience functions for doing just that...\n",
    "\"\"\"\n",
    "\n",
    "\n",
    "\n",
    "\"\"\"\n",
    "This uses the above functions to create a new puzzle. It attempts to\n",
    "create one with 28 (by default) given cells, but if it can't, it returns\n",
    "one with as few givens as it is able to find.\n",
    "This function actually tries making 100 puzzles (by default) and returns\n",
    "all of them. The \"best\" function that follows this one selects the best\n",
    "one of those.\n",
    "\"\"\"\n",
    "def run(n = 28, iter=100):\n",
    "    all_results = {}\n",
    "#     print \"Constructing a sudoku puzzle.\"\n",
    "#     print \"* creating the solution...\"\n",
    "    a_puzzle_solution = construct_puzzle_solution()\n",
    "    \n",
    "#     print \"* constructing a puzzle...\"\n",
    "    for i in range(iter):\n",
    "        puzzle = copy.deepcopy(a_puzzle_solution)\n",
    "        (result, number_of_cells) = pluck(puzzle, n)\n",
    "        all_results.setdefault(number_of_cells, []).append(result)\n",
    "        if number_of_cells <= n: break\n",
    " \n",
    "    return all_results, a_puzzle_solution\n",
    "\n",
    "def best(set_of_puzzles):\n",
    "    # Could run some evaluation function here. For now just pick\n",
    "    # the one with the fewest \"givens\".\n",
    "    return set_of_puzzles[min(set_of_puzzles.keys())][0]\n",
    "\n",
    "def display(puzzle):\n",
    "    for row in puzzle:\n",
    "        print(' '.join([str(n or '_') for n in row]))\n",
    "\n",
    "    \n",
    "\n",
    "\n",
    "def gen_sudoku(num):\n",
    "    '''\n",
    "    Generates `num` games of Sudoku.\n",
    "    '''\n",
    "    solutions = np.zeros((num, 9, 9), np.int32)\n",
    "    for i in range(num):\n",
    "        solutions[i] = construct_puzzle_solution()\n",
    "\n",
    "    return solutions\n"
   ]
  },
  {
   "cell_type": "code",
   "execution_count": 6,
   "metadata": {},
   "outputs": [],
   "source": [
    "def construct_puzzle_solution_successrate(total_success):\n",
    "    # Loop until we're able to fill all 81 cells with numbers, while\n",
    "    # satisfying the constraints above.\n",
    "    nfailure=0\n",
    "    nsuccess=0\n",
    "    while nsuccess<total_success:\n",
    "        try:\n",
    "            puzzle  = [[0]*9 for i in range(9)] # start with blank puzzle\n",
    "            rows    = [set(range(1,10)) for i in range(9)] # set of available\n",
    "            columns = [set(range(1,10)) for i in range(9)] #   numbers for each\n",
    "            squares = [set(range(1,10)) for i in range(9)] #   row, column and square\n",
    "            for i in range(9):\n",
    "                for j in range(9):\n",
    "                    # pick a number for cell (i,j) from the set of remaining available numbers\n",
    "                    choices = rows[i].intersection(columns[j]).intersection(squares[(i//3)*3 + j//3])\n",
    "                    choice  = random.choice(list(choices))\n",
    "        \n",
    "                    puzzle[i][j] = choice\n",
    "        \n",
    "                    rows[i].discard(choice)\n",
    "                    columns[j].discard(choice)\n",
    "                    squares[(i//3)*3 + j//3].discard(choice)\n",
    "\n",
    "            # success! every cell is filled.\n",
    "            nsuccess += 1\n",
    "            \n",
    "        except IndexError:\n",
    "            print('fail')\n",
    "            nfailure += 1\n",
    "            pass\n",
    "    return nsuccess / nfailure\n",
    "#construct_puzzle_solution(10000)"
   ]
  },
  {
   "cell_type": "code",
   "execution_count": 7,
   "metadata": {},
   "outputs": [],
   "source": [
    "#check sudoku correctness\n",
    "def sudoku_acc(sample, return_array=False):\n",
    "    sample = sample.detach().cpu().numpy()\n",
    "    correct = 0\n",
    "    total = sample.shape[0]\n",
    "    ans = sample.argmax(-1)+1\n",
    "    numbers_1_N = np.arange(1, 9 + 1)\n",
    "    corrects = []\n",
    "    for board in ans:\n",
    "        if (np.all(np.sort(board, axis=1) == numbers_1_N) and\n",
    "            np.all(np.sort(board.T, axis=1) == numbers_1_N)):\n",
    "            # Check blocks\n",
    "            \n",
    "            blocks = board.reshape(3, 3, 3, 3).transpose(0, 2, 1, 3).reshape(9, 9)\n",
    "            if np.all(np.sort(board.T, axis=1) == numbers_1_N):\n",
    "                correct += 1\n",
    "                corrects.append(True)\n",
    "            else:\n",
    "                corrects.append(False)\n",
    "        else:\n",
    "            corrects.append(False)\n",
    "\n",
    "    if return_array:\n",
    "        return corrects\n",
    "    else:\n",
    "        print('correct {} %'.format(100 * correct / total))\n"
   ]
  },
  {
   "cell_type": "code",
   "execution_count": 8,
   "metadata": {},
   "outputs": [],
   "source": [
    "colind = np.array([[0,1,2,3,4,5,6,7,8],\n",
    "            [0,1,2,3,4,5,6,7,8],\n",
    "            [0,1,2,3,4,5,6,7,8],\n",
    "            [0,1,2,3,4,5,6,7,8],\n",
    "            [0,1,2,3,4,5,6,7,8],\n",
    "            [0,1,2,3,4,5,6,7,8],\n",
    "            [0,1,2,3,4,5,6,7,8],\n",
    "            [0,1,2,3,4,5,6,7,8],\n",
    "            [0,1,2,3,4,5,6,7,8]])\n",
    "\n",
    "rowind = np.array([[0,0,0,0,0,0,0,0,0],\n",
    "          [1,1,1,1,1,1,1,1,1],\n",
    "          [2,2,2,2,2,2,2,2,2],\n",
    "          [3,3,3,3,3,3,3,3,3],\n",
    "          [4,4,4,4,4,4,4,4,4],\n",
    "          [5,5,5,5,5,5,5,5,5],\n",
    "          [6,6,6,6,6,6,6,6,6],\n",
    "          [7,7,7,7,7,7,7,7,7],\n",
    "          [8,8,8,8,8,8,8,8,8]])\n",
    "\n",
    "\n",
    "blockind = np.array([[0,0,0,1,1,1,2,2,2],\n",
    "          [0,0,0,1,1,1,2,2,2],\n",
    "          [0,0,0,1,1,1,2,2,2],\n",
    "          [3,3,3,4,4,4,5,5,5],\n",
    "          [3,3,3,4,4,4,5,5,5],\n",
    "          [3,3,3,4,4,4,5,5,5],\n",
    "          [6,6,6,7,7,7,8,8,8],\n",
    "          [6,6,6,7,7,7,8,8,8],\n",
    "          [6,6,6,7,7,7,8,8,8]])\n",
    "\n",
    "colenc = np.zeros((81,9))\n",
    "rowenc = np.zeros((81,9))\n",
    "blockenc = np.zeros((81,9))\n",
    "colenc[np.arange(81),colind.flatten()] = 1\n",
    "rowenc[np.arange(81),rowind.flatten()] = 1\n",
    "blockenc[np.arange(81),blockind.flatten()] = 1\n",
    "allenc = np.concatenate([colenc, rowenc, blockenc], axis=1)\n",
    "allenc_relative = torch.FloatTensor(allenc[:,None,:]==allenc[None,:,:])"
   ]
  },
  {
   "cell_type": "code",
   "execution_count": 9,
   "metadata": {},
   "outputs": [],
   "source": [
    "#Sudoku dataloader that generate sudoku in real-time\n",
    "class SudokuDataset(Dataset):\n",
    "    def __init__(self):\n",
    "        pass\n",
    "    def __len__(self):\n",
    "        return int(batchSize*1000)\n",
    "\n",
    "    def __getitem__(self, idx):\n",
    "        sudoku = gen_sudoku(1)\n",
    "        dataset = np.eye(9)[sudoku.reshape(sudoku.shape[0],-1)-1]\n",
    "        return dataset\n",
    "\n"
   ]
  },
  {
   "cell_type": "markdown",
   "metadata": {},
   "source": [
    "We calculate time dependent weights"
   ]
  },
  {
   "cell_type": "code",
   "execution_count": 10,
   "metadata": {},
   "outputs": [],
   "source": [
    "#importance sampling weights \n",
    "#this part may change, no need to spend too much time on understanding it\n",
    "device = 'cuda'\n",
    "batchSize = 256 \n",
    "\n",
    "def worker_init_fn(worker_id):                                                          \n",
    "    np.random.seed(worker_id)\n",
    "\n",
    "sb = UnitStickBreakingTransform()\n",
    "ds = SudokuDataset()\n",
    "train_dataloader = DataLoader(ds, batchSize, shuffle=True, num_workers=16, worker_init_fn=worker_init_fn)\n",
    "\n",
    "time_dependent_cums = torch.zeros(timepoints.shape[0]).to(device)\n",
    "time_dependent_counts = torch.zeros(timepoints.shape[0]).to(device)\n",
    "\n",
    "avg_loss = 0.\n",
    "num_items = 0\n",
    "for i, x in enumerate(train_dataloader):\n",
    "    x = x.reshape(-1,9,9,9)\n",
    "    random_t = torch.randint(0, timepoints.shape[0], (x.shape[0],))\n",
    "    order = np.random.permutation(np.arange(9))\n",
    "    #perturbed_x, perturbed_x_grad = diffusion_factory(x[...,order], random_t,  v_one, v_zero,v_one_loggrad, v_zero_loggrad, alpha, beta)\n",
    "    perturbed_x, perturbed_x_grad = diffusion_fast_flatdirichlet(x[...,order], random_t, v_one, v_one_loggrad)\n",
    "    perturbed_x = perturbed_x[..., np.argsort(order)]\n",
    "    perturbed_x_grad = perturbed_x_grad[..., np.argsort(order)]\n",
    "    perturbed_x = perturbed_x.to(device)    \n",
    "    perturbed_x_grad = perturbed_x_grad.to(device)\n",
    "    random_t = random_t.to(device)\n",
    "    perturbed_v = sb._inverse(perturbed_x)\n",
    "\n",
    "    \n",
    "    order = np.random.permutation(np.arange(9))\n",
    "    perturbed_v = sb._inverse(perturbed_x[..., order], prevent_nan=True).detach()\n",
    "\n",
    "    time_dependent_counts[random_t] += 1\n",
    "    #time_dependent_cums[random_t] +=  ( ((perturbed_x)*(1-perturbed_x))**2 * (perturbed_x_grad)**2).mean(dim=(1,2,3)).detach()\n",
    "    time_dependent_cums[random_t] +=  (perturbed_v*(1-perturbed_v) * (gx_to_gv(perturbed_x_grad[...,order],perturbed_x[...,order]))**2).mean(dim=(1,2,3)).detach()\n",
    "    time_dependent_weights =  time_dependent_cums / time_dependent_counts\n",
    "    time_dependent_weights = time_dependent_weights / time_dependent_weights.mean()\n",
    "    \n",
    "    if i > 20:\n",
    "        break"
   ]
  },
  {
   "cell_type": "code",
   "execution_count": 11,
   "metadata": {},
   "outputs": [
    {
     "data": {
      "text/plain": [
       "[<matplotlib.lines.Line2D at 0x2aabce7af6d0>]"
      ]
     },
     "execution_count": 11,
     "metadata": {},
     "output_type": "execute_result"
    },
    {
     "data": {
      "image/png": "[encoded data removed]",
      "text/plain": [
       "<Figure size 640x480 with 1 Axes>"
      ]
     },
     "metadata": {},
     "output_type": "display_data"
    }
   ],
   "source": [
    "plt.plot(time_dependent_weights.cpu())"
   ]
  },
  {
   "cell_type": "markdown",
   "metadata": {},
   "source": [
    "Let's define a model"
   ]
  },
  {
   "cell_type": "code",
   "execution_count": 12,
   "metadata": {},
   "outputs": [],
   "source": [
    "#modified from minGPT \n",
    "# -----------------------------------------------------------------------------\n",
    "\n",
    "class NewGELU(nn.Module):\n",
    "    \"\"\"\n",
    "    Implementation of the GELU activation function currently in Google BERT repo (identical to OpenAI GPT).\n",
    "    Reference: Gaussian Error Linear Units (GELU) paper: https://arxiv.org/abs/1606.08415\n",
    "    \"\"\"\n",
    "    def forward(self, x):\n",
    "        return 0.5 * x * (1.0 + torch.tanh(math.sqrt(2.0 / math.pi) * (x + 0.044715 * torch.pow(x, 3.0))))\n",
    "\n",
    "class SelfAttention(nn.Module):\n",
    "    \"\"\"\n",
    "    A vanilla multi-head masked self-attention layer with a projection at the end.\n",
    "    It is possible to use torch.nn.MultiheadAttention here but I am including an\n",
    "    explicit implementation here to show that there is nothing too scary here.\n",
    "    \"\"\"\n",
    "\n",
    "    def __init__(self, n_embd, n_head, bias=None):\n",
    "        super().__init__()\n",
    "        assert n_embd % n_head == 0\n",
    "        # key, query, value projections for all heads, but in a batch\n",
    "        self.c_attn = nn.Linear(n_embd, 3 * n_embd)\n",
    "        self.c_proj = nn.Linear(n_embd, n_embd)\n",
    "\n",
    "        self.n_head = n_head\n",
    "        self.n_embd = n_embd\n",
    "        self.register_buffer(\"bias\",bias)\n",
    "        \n",
    "        self.bias_proj = nn.Linear(bias.shape[-1], n_head) #T, T, nh\n",
    "\n",
    "    def forward(self, x):\n",
    "        B, T, C = x.size() # batch size, sequence length, embedding dimensionality (n_embd)\n",
    "\n",
    "        # calculate query, key, values for all heads in batch and move head forward to be the batch dim\n",
    "        q, k ,v  = self.c_attn(x).split(self.n_embd, dim=2)\n",
    "        k = k.view(B, T, self.n_head, C // self.n_head).transpose(1, 2) # (B, nh, T, hs)\n",
    "        q = q.view(B, T, self.n_head, C // self.n_head).transpose(1, 2) # (B, nh, T, hs)\n",
    "        v = v.view(B, T, self.n_head, C // self.n_head).transpose(1, 2) # (B, nh, T, hs)\n",
    "\n",
    "        # causal self-attention; Self-attend: (B, nh, T, hs) x (B, nh, hs, T) -> (B, nh, T, T)\n",
    "        att = (q @ k.transpose(-2, -1)) * (1.0 / math.sqrt(k.size(-1)))\n",
    "        att = att + self.bias_proj(self.bias).permute((2,0,1))\n",
    "        att = F.softmax(att, dim=-1)\n",
    "        #att = self.attn_dropout(att)\n",
    "        y = att @ v # (B, nh, T, T) x (B, nh, T, hs) -> (B, nh, T, hs)\n",
    "        y = y.transpose(1, 2).contiguous().view(B, T, C) # re-assemble all head outputs side by side\n",
    "\n",
    "        # output projection\n",
    "        y = self.c_proj(y)\n",
    "        return y\n",
    "\n",
    "class Block(nn.Module):\n",
    "    \"\"\" an unassuming Transformer block \"\"\"\n",
    "\n",
    "    def __init__(self, n_embd, n_head, bias=None):\n",
    "        super().__init__()\n",
    "        self.ln_1 = nn.LayerNorm(n_embd)\n",
    "        self.attn = SelfAttention(n_embd, n_head, bias=bias)\n",
    "        self.ln_2 = nn.LayerNorm(n_embd)\n",
    "        self.mlp = nn.ModuleDict(dict(\n",
    "            c_fc    = nn.Linear(n_embd, 4 * n_embd),\n",
    "            c_proj  = nn.Linear(4 * n_embd, n_embd),\n",
    "            act     = NewGELU(),\n",
    "        ))\n",
    "        m = self.mlp\n",
    "\n",
    "    def forward(self, x):\n",
    "        x = x + self.attn(self.ln_1(x))\n",
    "        x = x + self.mlp.c_proj(self.mlp.act(self.mlp.c_fc(self.ln_2(x))))\n",
    "        return x\n",
    "    \n",
    "\n",
    "class GaussianFourierProjection(nn.Module):\n",
    "\n",
    "    \"\"\"\n",
    "    Gaussian random features for encoding time steps.\n",
    "    \"\"\"  \n",
    "    \n",
    "    def __init__(self, embed_dim, scale=30.):\n",
    "        super().__init__()\n",
    "    # Randomly sample weights during initialization. These weights are fixed \n",
    "    # during optimization and are not trainable.\n",
    "        self.W = nn.Parameter(torch.randn(embed_dim // 2) * scale, requires_grad=False)\n",
    "    def forward(self, x):\n",
    "        x_proj = x[:, None] * self.W[None, :] * 2 * np.pi\n",
    "        return torch.cat([torch.sin(x_proj), torch.cos(x_proj)], dim=-1)\n",
    "\n",
    "\n",
    "class Dense(nn.Module):\n",
    "    \n",
    "    \"\"\"\n",
    "    A fully connected layer that reshapes outputs to feature maps.\n",
    "    \"\"\"\n",
    "    \n",
    "    def __init__(self, input_dim, output_dim):\n",
    "        super().__init__()\n",
    "        self.dense = nn.Linear(input_dim, output_dim)\n",
    "    def forward(self, x):\n",
    "        return self.dense(x)[...]\n",
    "\n",
    "    \n",
    "class ScoreNet(nn.Module):\n",
    "  \"\"\"A time-dependent score-based model built upon U-Net architecture.\"\"\"\n",
    "\n",
    "  def __init__(self, allenc_rel, embed_dim=256, ):\n",
    "    \"\"\"Initialize a time-dependent score-based network.\n",
    "\n",
    "    Args:\n",
    "      marginal_prob_std: A function that takes time t and gives the standard\n",
    "        deviation of the perturbation kernel p_{0t}(x(t) | x(0)).\n",
    "      channels: The number of channels for feature maps of each resolution.\n",
    "      embed_dim: The dimensionality of Gaussian random feature embeddings.\n",
    "    \"\"\"\n",
    "    super().__init__()\n",
    "    # Gaussian random feature embedding layer for time\n",
    "    self.embed = nn.Sequential(GaussianFourierProjection(embed_dim=embed_dim),\n",
    "         nn.Linear(embed_dim, embed_dim))\n",
    "    \n",
    "    self.linear = Dense(9,128)\n",
    "    self.blocks = nn.ModuleList(Block(128, 8, bias=allenc_rel) for _ in range(20))\n",
    "    self.denses = nn.ModuleList(Dense(embed_dim, 128) for _ in range(20))\n",
    "    self.act = NewGELU()\n",
    "    self.softplus = nn.Softplus()\n",
    "    self.output = Dense(128,9)\n",
    "    self.scale = nn.Parameter(torch.ones(1))\n",
    "\n",
    "  \n",
    "  def forward(self, x, t): \n",
    "    # Obtain the Gaussian random feature embedding for t   \n",
    "    embed = self.act(self.embed(t))\n",
    "    \n",
    "    # Encoding path\n",
    "    h =   self.linear(x.view(-1,81,9))\n",
    "    for le, ld in zip(self.blocks, self.denses):\n",
    "        h = le(h + ld(embed)[:,None,:])\n",
    "\n",
    "    h = self.output(h)\n",
    "\n",
    "    #h = h.reshape(x.size()) * torch.exp(-t[:,None,None,None]* self.softplus(self.scale)) /  ((x+1e-6)*(1-x+1e-6))\n",
    "    h = h.reshape(x.size()) #* torch.exp(-t[:,None,None,None]* self.softplus(self.scale)) * (1/(x+1e-3)+1/(1-x+1e-3))\n",
    "    h = h - h.mean(axis=-1, keepdims=True)\n",
    "    return h"
   ]
  },
  {
   "cell_type": "markdown",
   "metadata": {},
   "source": [
    "## Evaluation of the Best Model"
   ]
  },
  {
   "cell_type": "code",
   "execution_count": 13,
   "metadata": {},
   "outputs": [
    {
     "data": {
      "text/plain": [
       "DataParallel(\n",
       "  (module): ScoreNet(\n",
       "    (embed): Sequential(\n",
       "      (0): GaussianFourierProjection()\n",
       "      (1): Linear(in_features=256, out_features=256, bias=True)\n",
       "    )\n",
       "    (linear): Dense(\n",
       "      (dense): Linear(in_features=9, out_features=128, bias=True)\n",
       "    )\n",
       "    (blocks): ModuleList(\n",
       "      (0): Block(\n",
       "        (ln_1): LayerNorm((128,), eps=1e-05, elementwise_affine=True)\n",
       "        (attn): SelfAttention(\n",
       "          (c_attn): Linear(in_features=128, out_features=384, bias=True)\n",
       "          (c_proj): Linear(in_features=128, out_features=128, bias=True)\n",
       "          (bias_proj): Linear(in_features=27, out_features=8, bias=True)\n",
       "        )\n",
       "        (ln_2): LayerNorm((128,), eps=1e-05, elementwise_affine=True)\n",
       "        (mlp): ModuleDict(\n",
       "          (c_fc): Linear(in_features=128, out_features=512, bias=True)\n",
       "          (c_proj): Linear(in_features=512, out_features=128, bias=True)\n",
       "          (act): NewGELU()\n",
       "        )\n",
       "      )\n",
       "      (1): Block(\n",
       "        (ln_1): LayerNorm((128,), eps=1e-05, elementwise_affine=True)\n",
       "        (attn): SelfAttention(\n",
       "          (c_attn): Linear(in_features=128, out_features=384, bias=True)\n",
       "          (c_proj): Linear(in_features=128, out_features=128, bias=True)\n",
       "          (bias_proj): Linear(in_features=27, out_features=8, bias=True)\n",
       "        )\n",
       "        (ln_2): LayerNorm((128,), eps=1e-05, elementwise_affine=True)\n",
       "        (mlp): ModuleDict(\n",
       "          (c_fc): Linear(in_features=128, out_features=512, bias=True)\n",
       "          (c_proj): Linear(in_features=512, out_features=128, bias=True)\n",
       "          (act): NewGELU()\n",
       "        )\n",
       "      )\n",
       "      (2): Block(\n",
       "        (ln_1): LayerNorm((128,), eps=1e-05, elementwise_affine=True)\n",
       "        (attn): SelfAttention(\n",
       "          (c_attn): Linear(in_features=128, out_features=384, bias=True)\n",
       "          (c_proj): Linear(in_features=128, out_features=128, bias=True)\n",
       "          (bias_proj): Linear(in_features=27, out_features=8, bias=True)\n",
       "        )\n",
       "        (ln_2): LayerNorm((128,), eps=1e-05, elementwise_affine=True)\n",
       "        (mlp): ModuleDict(\n",
       "          (c_fc): Linear(in_features=128, out_features=512, bias=True)\n",
       "          (c_proj): Linear(in_features=512, out_features=128, bias=True)\n",
       "          (act): NewGELU()\n",
       "        )\n",
       "      )\n",
       "      (3): Block(\n",
       "        (ln_1): LayerNorm((128,), eps=1e-05, elementwise_affine=True)\n",
       "        (attn): SelfAttention(\n",
       "          (c_attn): Linear(in_features=128, out_features=384, bias=True)\n",
       "          (c_proj): Linear(in_features=128, out_features=128, bias=True)\n",
       "          (bias_proj): Linear(in_features=27, out_features=8, bias=True)\n",
       "        )\n",
       "        (ln_2): LayerNorm((128,), eps=1e-05, elementwise_affine=True)\n",
       "        (mlp): ModuleDict(\n",
       "          (c_fc): Linear(in_features=128, out_features=512, bias=True)\n",
       "          (c_proj): Linear(in_features=512, out_features=128, bias=True)\n",
       "          (act): NewGELU()\n",
       "        )\n",
       "      )\n",
       "      (4): Block(\n",
       "        (ln_1): LayerNorm((128,), eps=1e-05, elementwise_affine=True)\n",
       "        (attn): SelfAttention(\n",
       "          (c_attn): Linear(in_features=128, out_features=384, bias=True)\n",
       "          (c_proj): Linear(in_features=128, out_features=128, bias=True)\n",
       "          (bias_proj): Linear(in_features=27, out_features=8, bias=True)\n",
       "        )\n",
       "        (ln_2): LayerNorm((128,), eps=1e-05, elementwise_affine=True)\n",
       "        (mlp): ModuleDict(\n",
       "          (c_fc): Linear(in_features=128, out_features=512, bias=True)\n",
       "          (c_proj): Linear(in_features=512, out_features=128, bias=True)\n",
       "          (act): NewGELU()\n",
       "        )\n",
       "      )\n",
       "      (5): Block(\n",
       "        (ln_1): LayerNorm((128,), eps=1e-05, elementwise_affine=True)\n",
       "        (attn): SelfAttention(\n",
       "          (c_attn): Linear(in_features=128, out_features=384, bias=True)\n",
       "          (c_proj): Linear(in_features=128, out_features=128, bias=True)\n",
       "          (bias_proj): Linear(in_features=27, out_features=8, bias=True)\n",
       "        )\n",
       "        (ln_2): LayerNorm((128,), eps=1e-05, elementwise_affine=True)\n",
       "        (mlp): ModuleDict(\n",
       "          (c_fc): Linear(in_features=128, out_features=512, bias=True)\n",
       "          (c_proj): Linear(in_features=512, out_features=128, bias=True)\n",
       "          (act): NewGELU()\n",
       "        )\n",
       "      )\n",
       "      (6): Block(\n",
       "        (ln_1): LayerNorm((128,), eps=1e-05, elementwise_affine=True)\n",
       "        (attn): SelfAttention(\n",
       "          (c_attn): Linear(in_features=128, out_features=384, bias=True)\n",
       "          (c_proj): Linear(in_features=128, out_features=128, bias=True)\n",
       "          (bias_proj): Linear(in_features=27, out_features=8, bias=True)\n",
       "        )\n",
       "        (ln_2): LayerNorm((128,), eps=1e-05, elementwise_affine=True)\n",
       "        (mlp): ModuleDict(\n",
       "          (c_fc): Linear(in_features=128, out_features=512, bias=True)\n",
       "          (c_proj): Linear(in_features=512, out_features=128, bias=True)\n",
       "          (act): NewGELU()\n",
       "        )\n",
       "      )\n",
       "      (7): Block(\n",
       "        (ln_1): LayerNorm((128,), eps=1e-05, elementwise_affine=True)\n",
       "        (attn): SelfAttention(\n",
       "          (c_attn): Linear(in_features=128, out_features=384, bias=True)\n",
       "          (c_proj): Linear(in_features=128, out_features=128, bias=True)\n",
       "          (bias_proj): Linear(in_features=27, out_features=8, bias=True)\n",
       "        )\n",
       "        (ln_2): LayerNorm((128,), eps=1e-05, elementwise_affine=True)\n",
       "        (mlp): ModuleDict(\n",
       "          (c_fc): Linear(in_features=128, out_features=512, bias=True)\n",
       "          (c_proj): Linear(in_features=512, out_features=128, bias=True)\n",
       "          (act): NewGELU()\n",
       "        )\n",
       "      )\n",
       "      (8): Block(\n",
       "        (ln_1): LayerNorm((128,), eps=1e-05, elementwise_affine=True)\n",
       "        (attn): SelfAttention(\n",
       "          (c_attn): Linear(in_features=128, out_features=384, bias=True)\n",
       "          (c_proj): Linear(in_features=128, out_features=128, bias=True)\n",
       "          (bias_proj): Linear(in_features=27, out_features=8, bias=True)\n",
       "        )\n",
       "        (ln_2): LayerNorm((128,), eps=1e-05, elementwise_affine=True)\n",
       "        (mlp): ModuleDict(\n",
       "          (c_fc): Linear(in_features=128, out_features=512, bias=True)\n",
       "          (c_proj): Linear(in_features=512, out_features=128, bias=True)\n",
       "          (act): NewGELU()\n",
       "        )\n",
       "      )\n",
       "      (9): Block(\n",
       "        (ln_1): LayerNorm((128,), eps=1e-05, elementwise_affine=True)\n",
       "        (attn): SelfAttention(\n",
       "          (c_attn): Linear(in_features=128, out_features=384, bias=True)\n",
       "          (c_proj): Linear(in_features=128, out_features=128, bias=True)\n",
       "          (bias_proj): Linear(in_features=27, out_features=8, bias=True)\n",
       "        )\n",
       "        (ln_2): LayerNorm((128,), eps=1e-05, elementwise_affine=True)\n",
       "        (mlp): ModuleDict(\n",
       "          (c_fc): Linear(in_features=128, out_features=512, bias=True)\n",
       "          (c_proj): Linear(in_features=512, out_features=128, bias=True)\n",
       "          (act): NewGELU()\n",
       "        )\n",
       "      )\n",
       "      (10): Block(\n",
       "        (ln_1): LayerNorm((128,), eps=1e-05, elementwise_affine=True)\n",
       "        (attn): SelfAttention(\n",
       "          (c_attn): Linear(in_features=128, out_features=384, bias=True)\n",
       "          (c_proj): Linear(in_features=128, out_features=128, bias=True)\n",
       "          (bias_proj): Linear(in_features=27, out_features=8, bias=True)\n",
       "        )\n",
       "        (ln_2): LayerNorm((128,), eps=1e-05, elementwise_affine=True)\n",
       "        (mlp): ModuleDict(\n",
       "          (c_fc): Linear(in_features=128, out_features=512, bias=True)\n",
       "          (c_proj): Linear(in_features=512, out_features=128, bias=True)\n",
       "          (act): NewGELU()\n",
       "        )\n",
       "      )\n",
       "      (11): Block(\n",
       "        (ln_1): LayerNorm((128,), eps=1e-05, elementwise_affine=True)\n",
       "        (attn): SelfAttention(\n",
       "          (c_attn): Linear(in_features=128, out_features=384, bias=True)\n",
       "          (c_proj): Linear(in_features=128, out_features=128, bias=True)\n",
       "          (bias_proj): Linear(in_features=27, out_features=8, bias=True)\n",
       "        )\n",
       "        (ln_2): LayerNorm((128,), eps=1e-05, elementwise_affine=True)\n",
       "        (mlp): ModuleDict(\n",
       "          (c_fc): Linear(in_features=128, out_features=512, bias=True)\n",
       "          (c_proj): Linear(in_features=512, out_features=128, bias=True)\n",
       "          (act): NewGELU()\n",
       "        )\n",
       "      )\n",
       "      (12): Block(\n",
       "        (ln_1): LayerNorm((128,), eps=1e-05, elementwise_affine=True)\n",
       "        (attn): SelfAttention(\n",
       "          (c_attn): Linear(in_features=128, out_features=384, bias=True)\n",
       "          (c_proj): Linear(in_features=128, out_features=128, bias=True)\n",
       "          (bias_proj): Linear(in_features=27, out_features=8, bias=True)\n",
       "        )\n",
       "        (ln_2): LayerNorm((128,), eps=1e-05, elementwise_affine=True)\n",
       "        (mlp): ModuleDict(\n",
       "          (c_fc): Linear(in_features=128, out_features=512, bias=True)\n",
       "          (c_proj): Linear(in_features=512, out_features=128, bias=True)\n",
       "          (act): NewGELU()\n",
       "        )\n",
       "      )\n",
       "      (13): Block(\n",
       "        (ln_1): LayerNorm((128,), eps=1e-05, elementwise_affine=True)\n",
       "        (attn): SelfAttention(\n",
       "          (c_attn): Linear(in_features=128, out_features=384, bias=True)\n",
       "          (c_proj): Linear(in_features=128, out_features=128, bias=True)\n",
       "          (bias_proj): Linear(in_features=27, out_features=8, bias=True)\n",
       "        )\n",
       "        (ln_2): LayerNorm((128,), eps=1e-05, elementwise_affine=True)\n",
       "        (mlp): ModuleDict(\n",
       "          (c_fc): Linear(in_features=128, out_features=512, bias=True)\n",
       "          (c_proj): Linear(in_features=512, out_features=128, bias=True)\n",
       "          (act): NewGELU()\n",
       "        )\n",
       "      )\n",
       "      (14): Block(\n",
       "        (ln_1): LayerNorm((128,), eps=1e-05, elementwise_affine=True)\n",
       "        (attn): SelfAttention(\n",
       "          (c_attn): Linear(in_features=128, out_features=384, bias=True)\n",
       "          (c_proj): Linear(in_features=128, out_features=128, bias=True)\n",
       "          (bias_proj): Linear(in_features=27, out_features=8, bias=True)\n",
       "        )\n",
       "        (ln_2): LayerNorm((128,), eps=1e-05, elementwise_affine=True)\n",
       "        (mlp): ModuleDict(\n",
       "          (c_fc): Linear(in_features=128, out_features=512, bias=True)\n",
       "          (c_proj): Linear(in_features=512, out_features=128, bias=True)\n",
       "          (act): NewGELU()\n",
       "        )\n",
       "      )\n",
       "      (15): Block(\n",
       "        (ln_1): LayerNorm((128,), eps=1e-05, elementwise_affine=True)\n",
       "        (attn): SelfAttention(\n",
       "          (c_attn): Linear(in_features=128, out_features=384, bias=True)\n",
       "          (c_proj): Linear(in_features=128, out_features=128, bias=True)\n",
       "          (bias_proj): Linear(in_features=27, out_features=8, bias=True)\n",
       "        )\n",
       "        (ln_2): LayerNorm((128,), eps=1e-05, elementwise_affine=True)\n",
       "        (mlp): ModuleDict(\n",
       "          (c_fc): Linear(in_features=128, out_features=512, bias=True)\n",
       "          (c_proj): Linear(in_features=512, out_features=128, bias=True)\n",
       "          (act): NewGELU()\n",
       "        )\n",
       "      )\n",
       "      (16): Block(\n",
       "        (ln_1): LayerNorm((128,), eps=1e-05, elementwise_affine=True)\n",
       "        (attn): SelfAttention(\n",
       "          (c_attn): Linear(in_features=128, out_features=384, bias=True)\n",
       "          (c_proj): Linear(in_features=128, out_features=128, bias=True)\n",
       "          (bias_proj): Linear(in_features=27, out_features=8, bias=True)\n",
       "        )\n",
       "        (ln_2): LayerNorm((128,), eps=1e-05, elementwise_affine=True)\n",
       "        (mlp): ModuleDict(\n",
       "          (c_fc): Linear(in_features=128, out_features=512, bias=True)\n",
       "          (c_proj): Linear(in_features=512, out_features=128, bias=True)\n",
       "          (act): NewGELU()\n",
       "        )\n",
       "      )\n",
       "      (17): Block(\n",
       "        (ln_1): LayerNorm((128,), eps=1e-05, elementwise_affine=True)\n",
       "        (attn): SelfAttention(\n",
       "          (c_attn): Linear(in_features=128, out_features=384, bias=True)\n",
       "          (c_proj): Linear(in_features=128, out_features=128, bias=True)\n",
       "          (bias_proj): Linear(in_features=27, out_features=8, bias=True)\n",
       "        )\n",
       "        (ln_2): LayerNorm((128,), eps=1e-05, elementwise_affine=True)\n",
       "        (mlp): ModuleDict(\n",
       "          (c_fc): Linear(in_features=128, out_features=512, bias=True)\n",
       "          (c_proj): Linear(in_features=512, out_features=128, bias=True)\n",
       "          (act): NewGELU()\n",
       "        )\n",
       "      )\n",
       "      (18): Block(\n",
       "        (ln_1): LayerNorm((128,), eps=1e-05, elementwise_affine=True)\n",
       "        (attn): SelfAttention(\n",
       "          (c_attn): Linear(in_features=128, out_features=384, bias=True)\n",
       "          (c_proj): Linear(in_features=128, out_features=128, bias=True)\n",
       "          (bias_proj): Linear(in_features=27, out_features=8, bias=True)\n",
       "        )\n",
       "        (ln_2): LayerNorm((128,), eps=1e-05, elementwise_affine=True)\n",
       "        (mlp): ModuleDict(\n",
       "          (c_fc): Linear(in_features=128, out_features=512, bias=True)\n",
       "          (c_proj): Linear(in_features=512, out_features=128, bias=True)\n",
       "          (act): NewGELU()\n",
       "        )\n",
       "      )\n",
       "      (19): Block(\n",
       "        (ln_1): LayerNorm((128,), eps=1e-05, elementwise_affine=True)\n",
       "        (attn): SelfAttention(\n",
       "          (c_attn): Linear(in_features=128, out_features=384, bias=True)\n",
       "          (c_proj): Linear(in_features=128, out_features=128, bias=True)\n",
       "          (bias_proj): Linear(in_features=27, out_features=8, bias=True)\n",
       "        )\n",
       "        (ln_2): LayerNorm((128,), eps=1e-05, elementwise_affine=True)\n",
       "        (mlp): ModuleDict(\n",
       "          (c_fc): Linear(in_features=128, out_features=512, bias=True)\n",
       "          (c_proj): Linear(in_features=512, out_features=128, bias=True)\n",
       "          (act): NewGELU()\n",
       "        )\n",
       "      )\n",
       "    )\n",
       "    (denses): ModuleList(\n",
       "      (0): Dense(\n",
       "        (dense): Linear(in_features=256, out_features=128, bias=True)\n",
       "      )\n",
       "      (1): Dense(\n",
       "        (dense): Linear(in_features=256, out_features=128, bias=True)\n",
       "      )\n",
       "      (2): Dense(\n",
       "        (dense): Linear(in_features=256, out_features=128, bias=True)\n",
       "      )\n",
       "      (3): Dense(\n",
       "        (dense): Linear(in_features=256, out_features=128, bias=True)\n",
       "      )\n",
       "      (4): Dense(\n",
       "        (dense): Linear(in_features=256, out_features=128, bias=True)\n",
       "      )\n",
       "      (5): Dense(\n",
       "        (dense): Linear(in_features=256, out_features=128, bias=True)\n",
       "      )\n",
       "      (6): Dense(\n",
       "        (dense): Linear(in_features=256, out_features=128, bias=True)\n",
       "      )\n",
       "      (7): Dense(\n",
       "        (dense): Linear(in_features=256, out_features=128, bias=True)\n",
       "      )\n",
       "      (8): Dense(\n",
       "        (dense): Linear(in_features=256, out_features=128, bias=True)\n",
       "      )\n",
       "      (9): Dense(\n",
       "        (dense): Linear(in_features=256, out_features=128, bias=True)\n",
       "      )\n",
       "      (10): Dense(\n",
       "        (dense): Linear(in_features=256, out_features=128, bias=True)\n",
       "      )\n",
       "      (11): Dense(\n",
       "        (dense): Linear(in_features=256, out_features=128, bias=True)\n",
       "      )\n",
       "      (12): Dense(\n",
       "        (dense): Linear(in_features=256, out_features=128, bias=True)\n",
       "      )\n",
       "      (13): Dense(\n",
       "        (dense): Linear(in_features=256, out_features=128, bias=True)\n",
       "      )\n",
       "      (14): Dense(\n",
       "        (dense): Linear(in_features=256, out_features=128, bias=True)\n",
       "      )\n",
       "      (15): Dense(\n",
       "        (dense): Linear(in_features=256, out_features=128, bias=True)\n",
       "      )\n",
       "      (16): Dense(\n",
       "        (dense): Linear(in_features=256, out_features=128, bias=True)\n",
       "      )\n",
       "      (17): Dense(\n",
       "        (dense): Linear(in_features=256, out_features=128, bias=True)\n",
       "      )\n",
       "      (18): Dense(\n",
       "        (dense): Linear(in_features=256, out_features=128, bias=True)\n",
       "      )\n",
       "      (19): Dense(\n",
       "        (dense): Linear(in_features=256, out_features=128, bias=True)\n",
       "      )\n",
       "    )\n",
       "    (act): NewGELU()\n",
       "    (softplus): Softplus(beta=1, threshold=20)\n",
       "    (output): Dense(\n",
       "      (dense): Linear(in_features=128, out_features=9, bias=True)\n",
       "    )\n",
       "  )\n",
       ")"
      ]
     },
     "execution_count": 13,
     "metadata": {},
     "output_type": "execute_result"
    }
   ],
   "source": [
    "score_model = nn.DataParallel(ScoreNet(allenc_relative))\n",
    "score_model.module.load_state_dict(torch.load('../best_model_weights/sudoku/sudoku.transformer.pth'))\n",
    "score_model = score_model.to('cuda')\n",
    "score_model.eval()\n"
   ]
  },
  {
   "cell_type": "code",
   "execution_count": 14,
   "metadata": {},
   "outputs": [
    {
     "name": "stderr",
     "output_type": "stream",
     "text": [
      "100%|██████████████████████████████████████████████████████████████████████████████████████████████████████████████████████| 800/800 [00:32<00:00, 24.53it/s]\n"
     ]
    },
    {
     "name": "stdout",
     "output_type": "stream",
     "text": [
      "correct 100.0 %\n"
     ]
    }
   ],
   "source": [
    "device='cuda'\n",
    "score_model.eval()\n",
    "acc = []\n",
    "samples = Euler_Maruyama_sampler(score_model,\n",
    "                  (9,9,9), \n",
    "                  batch_size=256,\n",
    "                  max_time=1, \n",
    "                  min_time=0.01,\n",
    "                  time_dilation=8,\n",
    "                  num_steps=100,\n",
    "                  random_order=False,\n",
    "                  speed_balanced=False,\n",
    "                  device=device)\n",
    "acc.append(sudoku_acc(samples))"
   ]
  },
  {
   "cell_type": "markdown",
   "metadata": {},
   "source": [
    "## Generation Task\n",
    "Generate results for table 2 - Sudoku Generation"
   ]
  },
  {
   "cell_type": "code",
   "execution_count": 18,
   "metadata": {
    "scrolled": false
   },
   "outputs": [
    {
     "name": "stderr",
     "output_type": "stream",
     "text": [
      "100%|██████████████████████████████████████████████████████████████████████████████████████████████████████████████████████| 100/100 [00:04<00:00, 24.67it/s]\n",
      "100%|██████████████████████████████████████████████████████████████████████████████████████████████████████████████████████| 100/100 [00:03<00:00, 25.13it/s]\n",
      "100%|██████████████████████████████████████████████████████████████████████████████████████████████████████████████████████| 100/100 [00:03<00:00, 25.12it/s]\n",
      "100%|██████████████████████████████████████████████████████████████████████████████████████████████████████████████████████| 100/100 [00:03<00:00, 25.16it/s]\n",
      "100%|██████████████████████████████████████████████████████████████████████████████████████████████████████████████████████| 100/100 [00:03<00:00, 25.16it/s]\n",
      "100%|██████████████████████████████████████████████████████████████████████████████████████████████████████████████████████| 100/100 [00:03<00:00, 25.23it/s]\n",
      "100%|██████████████████████████████████████████████████████████████████████████████████████████████████████████████████████| 100/100 [00:03<00:00, 25.25it/s]\n",
      "100%|██████████████████████████████████████████████████████████████████████████████████████████████████████████████████████| 100/100 [00:03<00:00, 25.12it/s]\n",
      "100%|██████████████████████████████████████████████████████████████████████████████████████████████████████████████████████| 100/100 [00:03<00:00, 25.25it/s]\n",
      "100%|██████████████████████████████████████████████████████████████████████████████████████████████████████████████████████| 100/100 [00:03<00:00, 25.21it/s]\n"
     ]
    },
    {
     "name": "stdout",
     "output_type": "stream",
     "text": [
      "0.936328125 0.004160558674132931\n"
     ]
    },
    {
     "name": "stderr",
     "output_type": "stream",
     "text": [
      "100%|██████████████████████████████████████████████████████████████████████████████████████████████████████████████████████| 200/200 [00:07<00:00, 25.30it/s]\n",
      "100%|██████████████████████████████████████████████████████████████████████████████████████████████████████████████████████| 200/200 [00:07<00:00, 25.30it/s]\n",
      "100%|██████████████████████████████████████████████████████████████████████████████████████████████████████████████████████| 200/200 [00:07<00:00, 25.27it/s]\n",
      "100%|██████████████████████████████████████████████████████████████████████████████████████████████████████████████████████| 200/200 [00:07<00:00, 25.14it/s]\n",
      "100%|██████████████████████████████████████████████████████████████████████████████████████████████████████████████████████| 200/200 [00:07<00:00, 25.11it/s]\n",
      "100%|██████████████████████████████████████████████████████████████████████████████████████████████████████████████████████| 200/200 [00:07<00:00, 25.18it/s]\n",
      "100%|██████████████████████████████████████████████████████████████████████████████████████████████████████████████████████| 200/200 [00:07<00:00, 25.28it/s]\n",
      "100%|██████████████████████████████████████████████████████████████████████████████████████████████████████████████████████| 200/200 [00:07<00:00, 25.25it/s]\n",
      "100%|██████████████████████████████████████████████████████████████████████████████████████████████████████████████████████| 200/200 [00:07<00:00, 25.10it/s]\n",
      "100%|██████████████████████████████████████████████████████████████████████████████████████████████████████████████████████| 200/200 [00:08<00:00, 24.69it/s]\n"
     ]
    },
    {
     "name": "stdout",
     "output_type": "stream",
     "text": [
      "0.99375 0.0013278696649981208\n"
     ]
    },
    {
     "name": "stderr",
     "output_type": "stream",
     "text": [
      "100%|██████████████████████████████████████████████████████████████████████████████████████████████████████████████████████| 400/400 [00:16<00:00, 24.99it/s]\n",
      "100%|██████████████████████████████████████████████████████████████████████████████████████████████████████████████████████| 400/400 [00:15<00:00, 25.20it/s]\n",
      "100%|██████████████████████████████████████████████████████████████████████████████████████████████████████████████████████| 400/400 [00:15<00:00, 25.22it/s]\n",
      "100%|██████████████████████████████████████████████████████████████████████████████████████████████████████████████████████| 400/400 [00:15<00:00, 25.09it/s]\n",
      "100%|██████████████████████████████████████████████████████████████████████████████████████████████████████████████████████| 400/400 [00:15<00:00, 25.25it/s]\n",
      "100%|██████████████████████████████████████████████████████████████████████████████████████████████████████████████████████| 400/400 [00:15<00:00, 25.16it/s]\n",
      "100%|██████████████████████████████████████████████████████████████████████████████████████████████████████████████████████| 400/400 [00:15<00:00, 25.20it/s]\n",
      "100%|██████████████████████████████████████████████████████████████████████████████████████████████████████████████████████| 400/400 [00:15<00:00, 25.06it/s]\n",
      "100%|██████████████████████████████████████████████████████████████████████████████████████████████████████████████████████| 400/400 [00:15<00:00, 25.04it/s]\n",
      "100%|██████████████████████████████████████████████████████████████████████████████████████████████████████████████████████| 400/400 [00:15<00:00, 25.17it/s]\n"
     ]
    },
    {
     "name": "stdout",
     "output_type": "stream",
     "text": [
      "0.9984375 0.0006378879538497859\n"
     ]
    },
    {
     "name": "stderr",
     "output_type": "stream",
     "text": [
      "100%|██████████████████████████████████████████████████████████████████████████████████████████████████████████████████████| 800/800 [00:31<00:00, 25.14it/s]\n",
      "100%|██████████████████████████████████████████████████████████████████████████████████████████████████████████████████████| 800/800 [00:31<00:00, 25.18it/s]\n",
      "100%|██████████████████████████████████████████████████████████████████████████████████████████████████████████████████████| 800/800 [00:31<00:00, 25.13it/s]\n",
      "100%|██████████████████████████████████████████████████████████████████████████████████████████████████████████████████████| 800/800 [00:31<00:00, 25.16it/s]\n",
      "100%|██████████████████████████████████████████████████████████████████████████████████████████████████████████████████████| 800/800 [00:31<00:00, 25.06it/s]\n",
      "100%|██████████████████████████████████████████████████████████████████████████████████████████████████████████████████████| 800/800 [00:31<00:00, 25.24it/s]\n",
      "100%|██████████████████████████████████████████████████████████████████████████████████████████████████████████████████████| 800/800 [00:31<00:00, 25.22it/s]\n",
      "100%|██████████████████████████████████████████████████████████████████████████████████████████████████████████████████████| 800/800 [00:31<00:00, 25.16it/s]\n",
      "100%|██████████████████████████████████████████████████████████████████████████████████████████████████████████████████████| 800/800 [00:31<00:00, 25.24it/s]\n",
      "100%|██████████████████████████████████████████████████████████████████████████████████████████████████████████████████████| 800/800 [00:31<00:00, 25.24it/s]"
     ]
    },
    {
     "name": "stdout",
     "output_type": "stream",
     "text": [
      "0.999609375 0.0003906250000000001\n"
     ]
    },
    {
     "name": "stderr",
     "output_type": "stream",
     "text": [
      "\n"
     ]
    }
   ],
   "source": [
    "for time_dilation in [1, 2, 4, 8]:\n",
    "    acc = []\n",
    "    for i in range(10):\n",
    "        score_model.eval()\n",
    "        samples = Euler_Maruyama_sampler(score_model,\n",
    "                          (9,9,9),\n",
    "                          batch_size=256,\n",
    "                          max_time=1,\n",
    "                          min_time=0.01,\n",
    "                          time_dilation=time_dilation,\n",
    "                          num_steps=100,\n",
    "                          random_order=False,\n",
    "                          speed_balanced=True,\n",
    "                          speed_factor=9./2., \n",
    "                          device=device)\n",
    "        acc.append(np.mean(sudoku_acc(samples, return_array=True)))\n",
    "    print(np.mean(acc), np.std(acc)/np.sqrt(9))"
   ]
  },
  {
   "cell_type": "markdown",
   "metadata": {},
   "source": [
    "## Solving SatNet Puzzles"
   ]
  },
  {
   "cell_type": "code",
   "execution_count": 20,
   "metadata": {},
   "outputs": [],
   "source": [
    "#satnet puzzles\n",
    "sat_puzzles = torch.load('../data/satnet_sudoku/features.pt').argmax(-1) + 1\n",
    "sat_puzzles[torch.load('../data/satnet_sudoku/features.pt').sum(-1)==0]=0\n",
    "\n",
    "masks = torch.FloatTensor(np.vstack([np.zeros(9)*np.nan,np.eye(9)])[sat_puzzles]).cuda()"
   ]
  },
  {
   "cell_type": "code",
   "execution_count": 21,
   "metadata": {},
   "outputs": [],
   "source": [
    "sampler = Euler_Maruyama_sampler"
   ]
  },
  {
   "cell_type": "markdown",
   "metadata": {},
   "source": [
    "Let's check that we can solve Sudoku with any number of attempts"
   ]
  },
  {
   "cell_type": "code",
   "execution_count": null,
   "metadata": {},
   "outputs": [],
   "source": [
    "#hard puzzles that are not solved in one run can be solved in multiple runs\n",
    "def rep8(sudoku0, repeat=1):\n",
    "    #generate symmetric sudokus\n",
    "    sudoku1 = sudoku0[...,::-1,:]\n",
    "    sudoku2 = sudoku0.transpose(0,2,1,3)\n",
    "    sudoku3 = sudoku0[...,::-1,:].transpose(0,2,1,3)\n",
    "    sudoku4 = sudoku0[:,::-1,:,:]\n",
    "    sudoku5 = sudoku0[:,::-1,:,:].transpose(0,2,1,3)\n",
    "    sudoku6 = sudoku0[...,::-1,:][:,::-1,:,:]\n",
    "    sudoku7 = sudoku0[...,::-1,:][:,::-1,:,:].transpose(0,2,1,3)\n",
    "    sudoku = np.concatenate([sudoku0, sudoku1,sudoku2,sudoku3,sudoku4,sudoku5,sudoku6,sudoku7], axis=0)\n",
    "    sudoku = np.repeat(sudoku, repeat, axis=0)\n",
    "    return sudoku\n",
    "\n",
    "solutions = []\n",
    "ntrys = []\n",
    "for i, q in enumerate(np.array_split(masks, masks.shape[0] // 128)):\n",
    "    mask = q\n",
    "    solution = np.zeros((mask.shape[0], 9, 9))\n",
    "\n",
    "    istrue = np.ones(mask.shape[0])==0\n",
    "    ntry = np.zeros(mask.shape[0])\n",
    "\n",
    "    while True:\n",
    "        batchsize = 512\n",
    "        n_rep = batchsize // np.sum(~istrue)\n",
    "        \n",
    "        samples = sampler(score_model,\n",
    "                            (9,9,9),\n",
    "                            mask=torch.FloatTensor(np.repeat(mask.cpu().numpy()[~istrue,:], n_rep, axis=0)).cuda(),\n",
    "                            batch_size=np.sum(~istrue) * n_rep,\n",
    "                            max_time=1,\n",
    "                            min_time=0.01,\n",
    "                            time_dilation=8,\n",
    "                            num_steps=100,\n",
    "                            random_order=False,\n",
    "                            speed_balanced=True,\n",
    "                            speed_factor=9./2.,\n",
    "                            device=device)\n",
    "        \n",
    "        acc = np.array(sudoku_acc(samples, return_array=True)).reshape((-1,n_rep))\n",
    "        \n",
    "        istrueinds = np.where(~istrue)[0]\n",
    "        for i in range(acc.shape[0]):\n",
    "            if acc[i,:].any():\n",
    "                ind = i * n_rep + np.where(acc[i,:])[0][0]\n",
    "                solution[np.where(~istrue)[0][i] - 1] = samples[ind].detach().cpu().numpy().argmax(-1) \n",
    "                ntry[istrueinds[i]] = ntry[istrueinds[i]] + np.where(acc[i,:])[0][0] + 1\n",
    "            else:\n",
    "                ntry[istrueinds[i]] = ntry[istrueinds[i]] + acc.shape[1]\n",
    "        istrue[~istrue] =  acc.any(axis=1)\n",
    "\n",
    "        print('correct {} %'.format(100 * np.mean(istrue)))\n",
    "        \n",
    "        if np.all(istrue):\n",
    "            print('Bingo!')\n",
    "            break\n",
    "            \n",
    "    solutions.append(solution)\n",
    "    ntrys.append(ntry)\n",
    "    \n"
   ]
  },
  {
   "cell_type": "code",
   "execution_count": 55,
   "metadata": {},
   "outputs": [
    {
     "data": {
      "text/plain": [
       "1.021875"
      ]
     },
     "execution_count": 55,
     "metadata": {},
     "output_type": "execute_result"
    }
   ],
   "source": [
    "np.concatenate(ntrys).mean()"
   ]
  },
  {
   "cell_type": "markdown",
   "metadata": {},
   "source": [
    "Let's reproduce Table 2, Solution task"
   ]
  },
  {
   "cell_type": "code",
   "execution_count": 26,
   "metadata": {},
   "outputs": [
    {
     "name": "stderr",
     "output_type": "stream",
     "text": [
      "100%|██████████████████████████████████████████████████████████████████████████████████████████████████████████████████████| 100/100 [00:02<00:00, 45.05it/s]\n",
      "100%|██████████████████████████████████████████████████████████████████████████████████████████████████████████████████████| 100/100 [00:02<00:00, 45.04it/s]\n",
      "100%|██████████████████████████████████████████████████████████████████████████████████████████████████████████████████████| 100/100 [00:02<00:00, 44.24it/s]\n",
      "100%|██████████████████████████████████████████████████████████████████████████████████████████████████████████████████████| 100/100 [00:02<00:00, 45.39it/s]\n",
      "100%|██████████████████████████████████████████████████████████████████████████████████████████████████████████████████████| 100/100 [00:02<00:00, 45.74it/s]\n",
      "100%|██████████████████████████████████████████████████████████████████████████████████████████████████████████████████████| 100/100 [00:02<00:00, 45.85it/s]\n",
      "100%|██████████████████████████████████████████████████████████████████████████████████████████████████████████████████████| 100/100 [00:02<00:00, 44.41it/s]\n",
      "100%|██████████████████████████████████████████████████████████████████████████████████████████████████████████████████████| 100/100 [00:02<00:00, 43.62it/s]\n",
      "100%|██████████████████████████████████████████████████████████████████████████████████████████████████████████████████████| 100/100 [00:02<00:00, 45.36it/s]\n",
      "100%|██████████████████████████████████████████████████████████████████████████████████████████████████████████████████████| 100/100 [00:02<00:00, 44.36it/s]\n",
      "100%|██████████████████████████████████████████████████████████████████████████████████████████████████████████████████████| 100/100 [00:02<00:00, 45.49it/s]\n",
      "100%|██████████████████████████████████████████████████████████████████████████████████████████████████████████████████████| 100/100 [00:02<00:00, 45.76it/s]\n",
      "100%|██████████████████████████████████████████████████████████████████████████████████████████████████████████████████████| 100/100 [00:02<00:00, 45.00it/s]\n",
      "100%|██████████████████████████████████████████████████████████████████████████████████████████████████████████████████████| 100/100 [00:02<00:00, 45.87it/s]\n",
      "100%|██████████████████████████████████████████████████████████████████████████████████████████████████████████████████████| 100/100 [00:02<00:00, 44.93it/s]\n",
      "100%|██████████████████████████████████████████████████████████████████████████████████████████████████████████████████████| 100/100 [00:02<00:00, 45.30it/s]\n",
      "100%|██████████████████████████████████████████████████████████████████████████████████████████████████████████████████████| 100/100 [00:02<00:00, 45.17it/s]\n",
      "100%|██████████████████████████████████████████████████████████████████████████████████████████████████████████████████████| 100/100 [00:02<00:00, 45.73it/s]\n",
      "100%|██████████████████████████████████████████████████████████████████████████████████████████████████████████████████████| 100/100 [00:02<00:00, 45.40it/s]\n",
      "100%|██████████████████████████████████████████████████████████████████████████████████████████████████████████████████████| 100/100 [00:02<00:00, 45.89it/s]\n",
      "100%|██████████████████████████████████████████████████████████████████████████████████████████████████████████████████████| 100/100 [00:02<00:00, 46.14it/s]\n",
      "100%|██████████████████████████████████████████████████████████████████████████████████████████████████████████████████████| 100/100 [00:02<00:00, 45.02it/s]\n",
      "100%|██████████████████████████████████████████████████████████████████████████████████████████████████████████████████████| 100/100 [00:02<00:00, 45.40it/s]\n",
      "100%|██████████████████████████████████████████████████████████████████████████████████████████████████████████████████████| 100/100 [00:02<00:00, 45.37it/s]\n",
      "100%|██████████████████████████████████████████████████████████████████████████████████████████████████████████████████████| 100/100 [00:02<00:00, 45.44it/s]\n",
      "100%|██████████████████████████████████████████████████████████████████████████████████████████████████████████████████████| 100/100 [00:02<00:00, 44.70it/s]\n",
      "100%|██████████████████████████████████████████████████████████████████████████████████████████████████████████████████████| 100/100 [00:02<00:00, 45.71it/s]\n",
      "100%|██████████████████████████████████████████████████████████████████████████████████████████████████████████████████████| 100/100 [00:02<00:00, 46.21it/s]\n",
      "100%|██████████████████████████████████████████████████████████████████████████████████████████████████████████████████████| 100/100 [00:02<00:00, 44.91it/s]\n",
      "100%|██████████████████████████████████████████████████████████████████████████████████████████████████████████████████████| 100/100 [00:02<00:00, 44.81it/s]\n",
      "100%|██████████████████████████████████████████████████████████████████████████████████████████████████████████████████████| 100/100 [00:02<00:00, 45.54it/s]\n",
      "100%|██████████████████████████████████████████████████████████████████████████████████████████████████████████████████████| 100/100 [00:02<00:00, 45.42it/s]\n",
      "100%|██████████████████████████████████████████████████████████████████████████████████████████████████████████████████████| 100/100 [00:02<00:00, 44.90it/s]\n",
      "100%|██████████████████████████████████████████████████████████████████████████████████████████████████████████████████████| 100/100 [00:02<00:00, 45.73it/s]\n",
      "100%|██████████████████████████████████████████████████████████████████████████████████████████████████████████████████████| 100/100 [00:02<00:00, 45.00it/s]\n",
      "100%|██████████████████████████████████████████████████████████████████████████████████████████████████████████████████████| 100/100 [00:02<00:00, 45.35it/s]\n",
      "100%|██████████████████████████████████████████████████████████████████████████████████████████████████████████████████████| 100/100 [00:02<00:00, 45.48it/s]\n",
      "100%|██████████████████████████████████████████████████████████████████████████████████████████████████████████████████████| 100/100 [00:02<00:00, 45.91it/s]\n",
      "100%|██████████████████████████████████████████████████████████████████████████████████████████████████████████████████████| 100/100 [00:02<00:00, 45.01it/s]\n",
      "100%|██████████████████████████████████████████████████████████████████████████████████████████████████████████████████████| 100/100 [00:02<00:00, 45.54it/s]\n",
      "100%|██████████████████████████████████████████████████████████████████████████████████████████████████████████████████████| 100/100 [00:02<00:00, 44.94it/s]\n",
      "100%|██████████████████████████████████████████████████████████████████████████████████████████████████████████████████████| 100/100 [00:02<00:00, 46.07it/s]\n",
      "100%|██████████████████████████████████████████████████████████████████████████████████████████████████████████████████████| 100/100 [00:02<00:00, 44.80it/s]\n",
      "100%|██████████████████████████████████████████████████████████████████████████████████████████████████████████████████████| 100/100 [00:02<00:00, 45.93it/s]\n",
      "100%|██████████████████████████████████████████████████████████████████████████████████████████████████████████████████████| 100/100 [00:02<00:00, 45.39it/s]\n",
      "100%|██████████████████████████████████████████████████████████████████████████████████████████████████████████████████████| 100/100 [00:02<00:00, 45.18it/s]\n",
      "100%|██████████████████████████████████████████████████████████████████████████████████████████████████████████████████████| 100/100 [00:02<00:00, 45.32it/s]\n",
      "100%|██████████████████████████████████████████████████████████████████████████████████████████████████████████████████████| 100/100 [00:02<00:00, 44.50it/s]\n",
      "100%|██████████████████████████████████████████████████████████████████████████████████████████████████████████████████████| 100/100 [00:02<00:00, 45.41it/s]\n",
      "100%|██████████████████████████████████████████████████████████████████████████████████████████████████████████████████████| 100/100 [00:02<00:00, 45.29it/s]\n",
      "100%|██████████████████████████████████████████████████████████████████████████████████████████████████████████████████████| 100/100 [00:02<00:00, 45.04it/s]\n",
      "100%|██████████████████████████████████████████████████████████████████████████████████████████████████████████████████████| 100/100 [00:02<00:00, 44.24it/s]\n",
      "100%|██████████████████████████████████████████████████████████████████████████████████████████████████████████████████████| 100/100 [00:02<00:00, 45.65it/s]\n",
      "100%|██████████████████████████████████████████████████████████████████████████████████████████████████████████████████████| 100/100 [00:02<00:00, 44.18it/s]\n",
      "100%|██████████████████████████████████████████████████████████████████████████████████████████████████████████████████████| 100/100 [00:02<00:00, 46.03it/s]\n",
      "100%|██████████████████████████████████████████████████████████████████████████████████████████████████████████████████████| 100/100 [00:02<00:00, 44.88it/s]\n",
      "100%|██████████████████████████████████████████████████████████████████████████████████████████████████████████████████████| 100/100 [00:02<00:00, 46.55it/s]\n",
      "100%|██████████████████████████████████████████████████████████████████████████████████████████████████████████████████████| 100/100 [00:02<00:00, 44.78it/s]\n",
      "100%|██████████████████████████████████████████████████████████████████████████████████████████████████████████████████████| 100/100 [00:02<00:00, 44.83it/s]\n",
      "100%|██████████████████████████████████████████████████████████████████████████████████████████████████████████████████████| 100/100 [00:02<00:00, 45.35it/s]\n",
      "100%|██████████████████████████████████████████████████████████████████████████████████████████████████████████████████████| 100/100 [00:02<00:00, 45.78it/s]\n",
      "100%|██████████████████████████████████████████████████████████████████████████████████████████████████████████████████████| 100/100 [00:02<00:00, 45.93it/s]\n",
      "100%|██████████████████████████████████████████████████████████████████████████████████████████████████████████████████████| 100/100 [00:02<00:00, 44.14it/s]\n",
      "100%|██████████████████████████████████████████████████████████████████████████████████████████████████████████████████████| 100/100 [00:02<00:00, 45.83it/s]\n",
      "100%|██████████████████████████████████████████████████████████████████████████████████████████████████████████████████████| 100/100 [00:02<00:00, 45.67it/s]\n",
      "100%|██████████████████████████████████████████████████████████████████████████████████████████████████████████████████████| 100/100 [00:02<00:00, 46.34it/s]\n",
      "100%|██████████████████████████████████████████████████████████████████████████████████████████████████████████████████████| 100/100 [00:02<00:00, 44.96it/s]\n",
      "100%|██████████████████████████████████████████████████████████████████████████████████████████████████████████████████████| 100/100 [00:02<00:00, 46.11it/s]\n",
      "100%|██████████████████████████████████████████████████████████████████████████████████████████████████████████████████████| 100/100 [00:02<00:00, 44.72it/s]\n",
      "100%|██████████████████████████████████████████████████████████████████████████████████████████████████████████████████████| 100/100 [00:02<00:00, 45.20it/s]\n",
      "100%|██████████████████████████████████████████████████████████████████████████████████████████████████████████████████████| 100/100 [00:02<00:00, 44.80it/s]\n",
      "100%|██████████████████████████████████████████████████████████████████████████████████████████████████████████████████████| 100/100 [00:02<00:00, 46.19it/s]\n",
      "100%|██████████████████████████████████████████████████████████████████████████████████████████████████████████████████████| 100/100 [00:02<00:00, 45.01it/s]\n",
      "100%|██████████████████████████████████████████████████████████████████████████████████████████████████████████████████████| 100/100 [00:02<00:00, 45.50it/s]\n",
      "100%|██████████████████████████████████████████████████████████████████████████████████████████████████████████████████████| 100/100 [00:02<00:00, 44.97it/s]\n",
      "100%|██████████████████████████████████████████████████████████████████████████████████████████████████████████████████████| 100/100 [00:02<00:00, 45.24it/s]\n",
      "100%|██████████████████████████████████████████████████████████████████████████████████████████████████████████████████████| 100/100 [00:02<00:00, 45.79it/s]\n",
      "100%|██████████████████████████████████████████████████████████████████████████████████████████████████████████████████████| 100/100 [00:02<00:00, 44.80it/s]\n"
     ]
    },
    {
     "name": "stdout",
     "output_type": "stream",
     "text": [
      "0.9445981787914928 0.00623961977125068\n"
     ]
    },
    {
     "name": "stderr",
     "output_type": "stream",
     "text": [
      "100%|██████████████████████████████████████████████████████████████████████████████████████████████████████████████████████| 200/200 [00:04<00:00, 44.91it/s]\n",
      "100%|██████████████████████████████████████████████████████████████████████████████████████████████████████████████████████| 200/200 [00:04<00:00, 45.28it/s]\n",
      "100%|██████████████████████████████████████████████████████████████████████████████████████████████████████████████████████| 200/200 [00:04<00:00, 45.37it/s]\n",
      "100%|██████████████████████████████████████████████████████████████████████████████████████████████████████████████████████| 200/200 [00:04<00:00, 44.94it/s]\n",
      "100%|██████████████████████████████████████████████████████████████████████████████████████████████████████████████████████| 200/200 [00:04<00:00, 44.48it/s]\n",
      "100%|██████████████████████████████████████████████████████████████████████████████████████████████████████████████████████| 200/200 [00:04<00:00, 45.35it/s]\n",
      "100%|██████████████████████████████████████████████████████████████████████████████████████████████████████████████████████| 200/200 [00:04<00:00, 44.71it/s]\n",
      "100%|██████████████████████████████████████████████████████████████████████████████████████████████████████████████████████| 200/200 [00:04<00:00, 44.94it/s]\n",
      "100%|██████████████████████████████████████████████████████████████████████████████████████████████████████████████████████| 200/200 [00:04<00:00, 45.10it/s]\n",
      "100%|██████████████████████████████████████████████████████████████████████████████████████████████████████████████████████| 200/200 [00:04<00:00, 44.76it/s]\n",
      "100%|██████████████████████████████████████████████████████████████████████████████████████████████████████████████████████| 200/200 [00:04<00:00, 45.69it/s]\n",
      "100%|██████████████████████████████████████████████████████████████████████████████████████████████████████████████████████| 200/200 [00:04<00:00, 46.79it/s]\n",
      "100%|██████████████████████████████████████████████████████████████████████████████████████████████████████████████████████| 200/200 [00:04<00:00, 46.80it/s]\n",
      "100%|██████████████████████████████████████████████████████████████████████████████████████████████████████████████████████| 200/200 [00:04<00:00, 43.63it/s]\n",
      "100%|██████████████████████████████████████████████████████████████████████████████████████████████████████████████████████| 200/200 [00:04<00:00, 44.71it/s]\n",
      "100%|██████████████████████████████████████████████████████████████████████████████████████████████████████████████████████| 200/200 [00:04<00:00, 44.75it/s]\n",
      "100%|██████████████████████████████████████████████████████████████████████████████████████████████████████████████████████| 200/200 [00:04<00:00, 45.42it/s]\n",
      "100%|██████████████████████████████████████████████████████████████████████████████████████████████████████████████████████| 200/200 [00:04<00:00, 44.47it/s]\n",
      "100%|██████████████████████████████████████████████████████████████████████████████████████████████████████████████████████| 200/200 [00:04<00:00, 45.36it/s]\n",
      "100%|██████████████████████████████████████████████████████████████████████████████████████████████████████████████████████| 200/200 [00:04<00:00, 44.20it/s]\n",
      "100%|██████████████████████████████████████████████████████████████████████████████████████████████████████████████████████| 200/200 [00:04<00:00, 45.04it/s]\n",
      "100%|██████████████████████████████████████████████████████████████████████████████████████████████████████████████████████| 200/200 [00:04<00:00, 45.52it/s]\n",
      "100%|██████████████████████████████████████████████████████████████████████████████████████████████████████████████████████| 200/200 [00:04<00:00, 44.90it/s]\n",
      "100%|██████████████████████████████████████████████████████████████████████████████████████████████████████████████████████| 200/200 [00:04<00:00, 45.05it/s]\n",
      "100%|██████████████████████████████████████████████████████████████████████████████████████████████████████████████████████| 200/200 [00:04<00:00, 44.35it/s]\n",
      "100%|██████████████████████████████████████████████████████████████████████████████████████████████████████████████████████| 200/200 [00:04<00:00, 44.83it/s]\n",
      "100%|██████████████████████████████████████████████████████████████████████████████████████████████████████████████████████| 200/200 [00:04<00:00, 45.47it/s]\n",
      "100%|██████████████████████████████████████████████████████████████████████████████████████████████████████████████████████| 200/200 [00:04<00:00, 44.55it/s]\n",
      "100%|██████████████████████████████████████████████████████████████████████████████████████████████████████████████████████| 200/200 [00:04<00:00, 44.59it/s]\n",
      "100%|██████████████████████████████████████████████████████████████████████████████████████████████████████████████████████| 200/200 [00:04<00:00, 44.21it/s]\n",
      "100%|██████████████████████████████████████████████████████████████████████████████████████████████████████████████████████| 200/200 [00:04<00:00, 44.50it/s]\n",
      "100%|██████████████████████████████████████████████████████████████████████████████████████████████████████████████████████| 200/200 [00:04<00:00, 45.17it/s]\n",
      "100%|██████████████████████████████████████████████████████████████████████████████████████████████████████████████████████| 200/200 [00:04<00:00, 43.97it/s]\n",
      "100%|██████████████████████████████████████████████████████████████████████████████████████████████████████████████████████| 200/200 [00:04<00:00, 45.35it/s]\n",
      "100%|██████████████████████████████████████████████████████████████████████████████████████████████████████████████████████| 200/200 [00:04<00:00, 45.06it/s]\n",
      "100%|██████████████████████████████████████████████████████████████████████████████████████████████████████████████████████| 200/200 [00:04<00:00, 44.33it/s]\n",
      "100%|██████████████████████████████████████████████████████████████████████████████████████████████████████████████████████| 200/200 [00:04<00:00, 45.53it/s]\n",
      "100%|██████████████████████████████████████████████████████████████████████████████████████████████████████████████████████| 200/200 [00:04<00:00, 44.94it/s]\n",
      "100%|██████████████████████████████████████████████████████████████████████████████████████████████████████████████████████| 200/200 [00:04<00:00, 45.55it/s]\n",
      "100%|██████████████████████████████████████████████████████████████████████████████████████████████████████████████████████| 200/200 [00:04<00:00, 45.07it/s]\n",
      "100%|██████████████████████████████████████████████████████████████████████████████████████████████████████████████████████| 200/200 [00:04<00:00, 45.57it/s]\n",
      "100%|██████████████████████████████████████████████████████████████████████████████████████████████████████████████████████| 200/200 [00:04<00:00, 44.98it/s]\n",
      "100%|██████████████████████████████████████████████████████████████████████████████████████████████████████████████████████| 200/200 [00:04<00:00, 45.64it/s]\n",
      "100%|██████████████████████████████████████████████████████████████████████████████████████████████████████████████████████| 200/200 [00:04<00:00, 45.74it/s]\n",
      "100%|██████████████████████████████████████████████████████████████████████████████████████████████████████████████████████| 200/200 [00:04<00:00, 45.36it/s]\n",
      "100%|██████████████████████████████████████████████████████████████████████████████████████████████████████████████████████| 200/200 [00:04<00:00, 45.19it/s]\n",
      "100%|██████████████████████████████████████████████████████████████████████████████████████████████████████████████████████| 200/200 [00:04<00:00, 44.63it/s]\n",
      "100%|██████████████████████████████████████████████████████████████████████████████████████████████████████████████████████| 200/200 [00:04<00:00, 45.19it/s]\n",
      "100%|██████████████████████████████████████████████████████████████████████████████████████████████████████████████████████| 200/200 [00:04<00:00, 45.52it/s]\n",
      "100%|██████████████████████████████████████████████████████████████████████████████████████████████████████████████████████| 200/200 [00:04<00:00, 44.56it/s]\n",
      "100%|██████████████████████████████████████████████████████████████████████████████████████████████████████████████████████| 200/200 [00:04<00:00, 45.39it/s]\n",
      "100%|██████████████████████████████████████████████████████████████████████████████████████████████████████████████████████| 200/200 [00:04<00:00, 45.01it/s]\n",
      "100%|██████████████████████████████████████████████████████████████████████████████████████████████████████████████████████| 200/200 [00:04<00:00, 45.11it/s]\n",
      "100%|██████████████████████████████████████████████████████████████████████████████████████████████████████████████████████| 200/200 [00:04<00:00, 44.92it/s]\n",
      "100%|██████████████████████████████████████████████████████████████████████████████████████████████████████████████████████| 200/200 [00:04<00:00, 45.55it/s]\n",
      "100%|██████████████████████████████████████████████████████████████████████████████████████████████████████████████████████| 200/200 [00:04<00:00, 44.26it/s]\n",
      "100%|██████████████████████████████████████████████████████████████████████████████████████████████████████████████████████| 200/200 [00:04<00:00, 44.50it/s]\n",
      "100%|██████████████████████████████████████████████████████████████████████████████████████████████████████████████████████| 200/200 [00:04<00:00, 45.24it/s]\n",
      "100%|██████████████████████████████████████████████████████████████████████████████████████████████████████████████████████| 200/200 [00:04<00:00, 45.01it/s]\n",
      "100%|██████████████████████████████████████████████████████████████████████████████████████████████████████████████████████| 200/200 [00:04<00:00, 45.02it/s]\n",
      "100%|██████████████████████████████████████████████████████████████████████████████████████████████████████████████████████| 200/200 [00:04<00:00, 44.77it/s]\n",
      "100%|██████████████████████████████████████████████████████████████████████████████████████████████████████████████████████| 200/200 [00:04<00:00, 45.42it/s]\n",
      "100%|██████████████████████████████████████████████████████████████████████████████████████████████████████████████████████| 200/200 [00:04<00:00, 45.01it/s]\n",
      "100%|██████████████████████████████████████████████████████████████████████████████████████████████████████████████████████| 200/200 [00:04<00:00, 44.82it/s]\n",
      "100%|██████████████████████████████████████████████████████████████████████████████████████████████████████████████████████| 200/200 [00:04<00:00, 44.88it/s]\n",
      "100%|██████████████████████████████████████████████████████████████████████████████████████████████████████████████████████| 200/200 [00:04<00:00, 45.24it/s]\n",
      "100%|██████████████████████████████████████████████████████████████████████████████████████████████████████████████████████| 200/200 [00:04<00:00, 44.85it/s]\n",
      "100%|██████████████████████████████████████████████████████████████████████████████████████████████████████████████████████| 200/200 [00:04<00:00, 45.03it/s]\n",
      "100%|██████████████████████████████████████████████████████████████████████████████████████████████████████████████████████| 200/200 [00:04<00:00, 44.82it/s]\n",
      "100%|██████████████████████████████████████████████████████████████████████████████████████████████████████████████████████| 200/200 [00:04<00:00, 44.88it/s]\n",
      "100%|██████████████████████████████████████████████████████████████████████████████████████████████████████████████████████| 200/200 [00:04<00:00, 45.17it/s]\n",
      "100%|██████████████████████████████████████████████████████████████████████████████████████████████████████████████████████| 200/200 [00:04<00:00, 44.99it/s]\n",
      "100%|██████████████████████████████████████████████████████████████████████████████████████████████████████████████████████| 200/200 [00:04<00:00, 44.62it/s]\n",
      "100%|██████████████████████████████████████████████████████████████████████████████████████████████████████████████████████| 200/200 [00:04<00:00, 44.96it/s]\n",
      "100%|██████████████████████████████████████████████████████████████████████████████████████████████████████████████████████| 200/200 [00:04<00:00, 45.46it/s]\n",
      "100%|██████████████████████████████████████████████████████████████████████████████████████████████████████████████████████| 200/200 [00:04<00:00, 45.06it/s]\n",
      "100%|██████████████████████████████████████████████████████████████████████████████████████████████████████████████████████| 200/200 [00:04<00:00, 45.50it/s]\n",
      "100%|██████████████████████████████████████████████████████████████████████████████████████████████████████████████████████| 200/200 [00:04<00:00, 44.69it/s]\n"
     ]
    },
    {
     "name": "stdout",
     "output_type": "stream",
     "text": [
      "0.965801095706619 0.005332731024896206\n"
     ]
    },
    {
     "name": "stderr",
     "output_type": "stream",
     "text": [
      "100%|██████████████████████████████████████████████████████████████████████████████████████████████████████████████████████| 400/400 [00:08<00:00, 44.94it/s]\n",
      "100%|██████████████████████████████████████████████████████████████████████████████████████████████████████████████████████| 400/400 [00:08<00:00, 44.57it/s]\n",
      "100%|██████████████████████████████████████████████████████████████████████████████████████████████████████████████████████| 400/400 [00:08<00:00, 45.13it/s]\n",
      "100%|██████████████████████████████████████████████████████████████████████████████████████████████████████████████████████| 400/400 [00:08<00:00, 44.66it/s]\n",
      "100%|██████████████████████████████████████████████████████████████████████████████████████████████████████████████████████| 400/400 [00:08<00:00, 44.93it/s]\n",
      "100%|██████████████████████████████████████████████████████████████████████████████████████████████████████████████████████| 400/400 [00:08<00:00, 45.18it/s]\n",
      "100%|██████████████████████████████████████████████████████████████████████████████████████████████████████████████████████| 400/400 [00:08<00:00, 44.96it/s]\n",
      "100%|██████████████████████████████████████████████████████████████████████████████████████████████████████████████████████| 400/400 [00:08<00:00, 45.32it/s]\n",
      "100%|██████████████████████████████████████████████████████████████████████████████████████████████████████████████████████| 400/400 [00:08<00:00, 44.53it/s]\n",
      "100%|██████████████████████████████████████████████████████████████████████████████████████████████████████████████████████| 400/400 [00:08<00:00, 44.47it/s]\n",
      "100%|██████████████████████████████████████████████████████████████████████████████████████████████████████████████████████| 400/400 [00:08<00:00, 44.82it/s]\n",
      "100%|██████████████████████████████████████████████████████████████████████████████████████████████████████████████████████| 400/400 [00:08<00:00, 44.60it/s]\n",
      "100%|██████████████████████████████████████████████████████████████████████████████████████████████████████████████████████| 400/400 [00:08<00:00, 44.98it/s]\n",
      "100%|██████████████████████████████████████████████████████████████████████████████████████████████████████████████████████| 400/400 [00:08<00:00, 45.21it/s]\n",
      "100%|██████████████████████████████████████████████████████████████████████████████████████████████████████████████████████| 400/400 [00:08<00:00, 44.82it/s]\n",
      "100%|██████████████████████████████████████████████████████████████████████████████████████████████████████████████████████| 400/400 [00:08<00:00, 45.36it/s]\n",
      "100%|██████████████████████████████████████████████████████████████████████████████████████████████████████████████████████| 400/400 [00:08<00:00, 45.20it/s]\n",
      "100%|██████████████████████████████████████████████████████████████████████████████████████████████████████████████████████| 400/400 [00:08<00:00, 45.67it/s]\n",
      "100%|██████████████████████████████████████████████████████████████████████████████████████████████████████████████████████| 400/400 [00:08<00:00, 45.17it/s]\n",
      "100%|██████████████████████████████████████████████████████████████████████████████████████████████████████████████████████| 400/400 [00:08<00:00, 45.33it/s]\n",
      "100%|██████████████████████████████████████████████████████████████████████████████████████████████████████████████████████| 400/400 [00:08<00:00, 45.32it/s]\n",
      "100%|██████████████████████████████████████████████████████████████████████████████████████████████████████████████████████| 400/400 [00:08<00:00, 45.35it/s]\n",
      "100%|██████████████████████████████████████████████████████████████████████████████████████████████████████████████████████| 400/400 [00:08<00:00, 44.67it/s]\n",
      "100%|██████████████████████████████████████████████████████████████████████████████████████████████████████████████████████| 400/400 [00:08<00:00, 45.55it/s]\n",
      "100%|██████████████████████████████████████████████████████████████████████████████████████████████████████████████████████| 400/400 [00:08<00:00, 45.29it/s]\n",
      "100%|██████████████████████████████████████████████████████████████████████████████████████████████████████████████████████| 400/400 [00:08<00:00, 45.48it/s]\n",
      "100%|██████████████████████████████████████████████████████████████████████████████████████████████████████████████████████| 400/400 [00:08<00:00, 44.80it/s]\n",
      "100%|██████████████████████████████████████████████████████████████████████████████████████████████████████████████████████| 400/400 [00:08<00:00, 45.62it/s]\n",
      "100%|██████████████████████████████████████████████████████████████████████████████████████████████████████████████████████| 400/400 [00:08<00:00, 45.01it/s]\n",
      "100%|██████████████████████████████████████████████████████████████████████████████████████████████████████████████████████| 400/400 [00:08<00:00, 45.03it/s]\n",
      "100%|██████████████████████████████████████████████████████████████████████████████████████████████████████████████████████| 400/400 [00:08<00:00, 45.48it/s]\n",
      "100%|██████████████████████████████████████████████████████████████████████████████████████████████████████████████████████| 400/400 [00:08<00:00, 44.90it/s]\n",
      "100%|██████████████████████████████████████████████████████████████████████████████████████████████████████████████████████| 400/400 [00:08<00:00, 44.86it/s]\n",
      "100%|██████████████████████████████████████████████████████████████████████████████████████████████████████████████████████| 400/400 [00:08<00:00, 44.97it/s]\n",
      "100%|██████████████████████████████████████████████████████████████████████████████████████████████████████████████████████| 400/400 [00:08<00:00, 44.84it/s]\n",
      "100%|██████████████████████████████████████████████████████████████████████████████████████████████████████████████████████| 400/400 [00:08<00:00, 44.54it/s]\n",
      "100%|██████████████████████████████████████████████████████████████████████████████████████████████████████████████████████| 400/400 [00:09<00:00, 43.28it/s]\n",
      "100%|██████████████████████████████████████████████████████████████████████████████████████████████████████████████████████| 400/400 [00:08<00:00, 44.69it/s]\n",
      "100%|██████████████████████████████████████████████████████████████████████████████████████████████████████████████████████| 400/400 [00:08<00:00, 44.99it/s]\n",
      "100%|██████████████████████████████████████████████████████████████████████████████████████████████████████████████████████| 400/400 [00:09<00:00, 44.22it/s]\n",
      "100%|██████████████████████████████████████████████████████████████████████████████████████████████████████████████████████| 400/400 [00:08<00:00, 45.04it/s]\n",
      "100%|██████████████████████████████████████████████████████████████████████████████████████████████████████████████████████| 400/400 [00:08<00:00, 45.21it/s]\n",
      "100%|██████████████████████████████████████████████████████████████████████████████████████████████████████████████████████| 400/400 [00:08<00:00, 44.98it/s]\n",
      "100%|██████████████████████████████████████████████████████████████████████████████████████████████████████████████████████| 400/400 [00:08<00:00, 45.35it/s]\n",
      "100%|██████████████████████████████████████████████████████████████████████████████████████████████████████████████████████| 400/400 [00:08<00:00, 45.72it/s]\n",
      "100%|██████████████████████████████████████████████████████████████████████████████████████████████████████████████████████| 400/400 [00:08<00:00, 45.40it/s]\n",
      "100%|██████████████████████████████████████████████████████████████████████████████████████████████████████████████████████| 400/400 [00:08<00:00, 45.27it/s]\n",
      "100%|██████████████████████████████████████████████████████████████████████████████████████████████████████████████████████| 400/400 [00:08<00:00, 45.26it/s]\n",
      "100%|██████████████████████████████████████████████████████████████████████████████████████████████████████████████████████| 400/400 [00:08<00:00, 45.06it/s]\n",
      "100%|██████████████████████████████████████████████████████████████████████████████████████████████████████████████████████| 400/400 [00:08<00:00, 44.81it/s]\n",
      "100%|██████████████████████████████████████████████████████████████████████████████████████████████████████████████████████| 400/400 [00:08<00:00, 45.16it/s]\n",
      "100%|██████████████████████████████████████████████████████████████████████████████████████████████████████████████████████| 400/400 [00:08<00:00, 44.79it/s]\n",
      "100%|██████████████████████████████████████████████████████████████████████████████████████████████████████████████████████| 400/400 [00:08<00:00, 44.47it/s]\n",
      "100%|██████████████████████████████████████████████████████████████████████████████████████████████████████████████████████| 400/400 [00:08<00:00, 44.60it/s]\n",
      "100%|██████████████████████████████████████████████████████████████████████████████████████████████████████████████████████| 400/400 [00:08<00:00, 44.67it/s]\n",
      "100%|██████████████████████████████████████████████████████████████████████████████████████████████████████████████████████| 400/400 [00:08<00:00, 45.06it/s]\n",
      "100%|██████████████████████████████████████████████████████████████████████████████████████████████████████████████████████| 400/400 [00:09<00:00, 44.39it/s]\n",
      "100%|██████████████████████████████████████████████████████████████████████████████████████████████████████████████████████| 400/400 [00:09<00:00, 43.55it/s]\n",
      "100%|██████████████████████████████████████████████████████████████████████████████████████████████████████████████████████| 400/400 [00:08<00:00, 44.87it/s]\n",
      "100%|██████████████████████████████████████████████████████████████████████████████████████████████████████████████████████| 400/400 [00:09<00:00, 43.86it/s]\n",
      "100%|██████████████████████████████████████████████████████████████████████████████████████████████████████████████████████| 400/400 [00:09<00:00, 43.78it/s]\n",
      "100%|██████████████████████████████████████████████████████████████████████████████████████████████████████████████████████| 400/400 [00:09<00:00, 43.35it/s]\n",
      "100%|██████████████████████████████████████████████████████████████████████████████████████████████████████████████████████| 400/400 [00:09<00:00, 43.23it/s]\n",
      "100%|██████████████████████████████████████████████████████████████████████████████████████████████████████████████████████| 400/400 [00:09<00:00, 43.35it/s]\n",
      "100%|██████████████████████████████████████████████████████████████████████████████████████████████████████████████████████| 400/400 [00:09<00:00, 43.49it/s]\n",
      "100%|██████████████████████████████████████████████████████████████████████████████████████████████████████████████████████| 400/400 [00:09<00:00, 43.07it/s]\n",
      "100%|██████████████████████████████████████████████████████████████████████████████████████████████████████████████████████| 400/400 [00:09<00:00, 43.23it/s]\n",
      "100%|██████████████████████████████████████████████████████████████████████████████████████████████████████████████████████| 400/400 [00:09<00:00, 43.45it/s]\n",
      "100%|██████████████████████████████████████████████████████████████████████████████████████████████████████████████████████| 400/400 [00:09<00:00, 43.27it/s]\n",
      "100%|██████████████████████████████████████████████████████████████████████████████████████████████████████████████████████| 400/400 [00:09<00:00, 43.21it/s]\n",
      "100%|██████████████████████████████████████████████████████████████████████████████████████████████████████████████████████| 400/400 [00:09<00:00, 43.52it/s]\n",
      "100%|██████████████████████████████████████████████████████████████████████████████████████████████████████████████████████| 400/400 [00:09<00:00, 42.81it/s]\n",
      "100%|██████████████████████████████████████████████████████████████████████████████████████████████████████████████████████| 400/400 [00:09<00:00, 44.40it/s]\n",
      "100%|██████████████████████████████████████████████████████████████████████████████████████████████████████████████████████| 400/400 [00:09<00:00, 43.37it/s]\n",
      "100%|██████████████████████████████████████████████████████████████████████████████████████████████████████████████████████| 400/400 [00:09<00:00, 43.68it/s]\n",
      "100%|██████████████████████████████████████████████████████████████████████████████████████████████████████████████████████| 400/400 [00:09<00:00, 44.13it/s]\n",
      "100%|██████████████████████████████████████████████████████████████████████████████████████████████████████████████████████| 400/400 [00:09<00:00, 44.11it/s]\n",
      "100%|██████████████████████████████████████████████████████████████████████████████████████████████████████████████████████| 400/400 [00:09<00:00, 43.36it/s]\n"
     ]
    },
    {
     "name": "stdout",
     "output_type": "stream",
     "text": [
      "0.9757014323693104 0.004614294802156774\n"
     ]
    },
    {
     "name": "stderr",
     "output_type": "stream",
     "text": [
      "100%|██████████████████████████████████████████████████████████████████████████████████████████████████████████████████████| 800/800 [00:18<00:00, 43.31it/s]\n",
      "100%|██████████████████████████████████████████████████████████████████████████████████████████████████████████████████████| 800/800 [00:18<00:00, 43.49it/s]\n",
      "100%|██████████████████████████████████████████████████████████████████████████████████████████████████████████████████████| 800/800 [00:18<00:00, 43.00it/s]\n",
      "100%|██████████████████████████████████████████████████████████████████████████████████████████████████████████████████████| 800/800 [00:18<00:00, 43.40it/s]\n",
      "100%|██████████████████████████████████████████████████████████████████████████████████████████████████████████████████████| 800/800 [00:18<00:00, 43.08it/s]\n",
      "100%|██████████████████████████████████████████████████████████████████████████████████████████████████████████████████████| 800/800 [00:18<00:00, 43.46it/s]\n",
      "100%|██████████████████████████████████████████████████████████████████████████████████████████████████████████████████████| 800/800 [00:18<00:00, 43.35it/s]\n",
      "100%|██████████████████████████████████████████████████████████████████████████████████████████████████████████████████████| 800/800 [00:18<00:00, 43.57it/s]\n",
      "100%|██████████████████████████████████████████████████████████████████████████████████████████████████████████████████████| 800/800 [00:18<00:00, 43.06it/s]\n",
      "100%|██████████████████████████████████████████████████████████████████████████████████████████████████████████████████████| 800/800 [00:18<00:00, 43.17it/s]\n",
      "100%|██████████████████████████████████████████████████████████████████████████████████████████████████████████████████████| 800/800 [00:18<00:00, 43.80it/s]\n",
      "100%|██████████████████████████████████████████████████████████████████████████████████████████████████████████████████████| 800/800 [00:18<00:00, 43.69it/s]\n",
      "100%|██████████████████████████████████████████████████████████████████████████████████████████████████████████████████████| 800/800 [00:18<00:00, 43.63it/s]\n",
      "100%|██████████████████████████████████████████████████████████████████████████████████████████████████████████████████████| 800/800 [00:18<00:00, 43.40it/s]\n",
      "100%|██████████████████████████████████████████████████████████████████████████████████████████████████████████████████████| 800/800 [00:18<00:00, 43.01it/s]\n",
      "100%|██████████████████████████████████████████████████████████████████████████████████████████████████████████████████████| 800/800 [00:18<00:00, 43.52it/s]\n",
      "100%|██████████████████████████████████████████████████████████████████████████████████████████████████████████████████████| 800/800 [00:18<00:00, 44.00it/s]\n",
      "100%|██████████████████████████████████████████████████████████████████████████████████████████████████████████████████████| 800/800 [00:18<00:00, 43.34it/s]\n",
      "100%|██████████████████████████████████████████████████████████████████████████████████████████████████████████████████████| 800/800 [00:18<00:00, 43.62it/s]\n",
      "100%|██████████████████████████████████████████████████████████████████████████████████████████████████████████████████████| 800/800 [00:18<00:00, 43.78it/s]\n",
      "100%|██████████████████████████████████████████████████████████████████████████████████████████████████████████████████████| 800/800 [00:18<00:00, 43.78it/s]\n",
      "100%|██████████████████████████████████████████████████████████████████████████████████████████████████████████████████████| 800/800 [00:18<00:00, 43.60it/s]\n",
      "100%|██████████████████████████████████████████████████████████████████████████████████████████████████████████████████████| 800/800 [00:18<00:00, 43.71it/s]\n",
      "100%|██████████████████████████████████████████████████████████████████████████████████████████████████████████████████████| 800/800 [00:18<00:00, 43.61it/s]\n",
      "100%|██████████████████████████████████████████████████████████████████████████████████████████████████████████████████████| 800/800 [00:17<00:00, 44.79it/s]\n",
      "100%|██████████████████████████████████████████████████████████████████████████████████████████████████████████████████████| 800/800 [00:18<00:00, 44.08it/s]\n",
      "100%|██████████████████████████████████████████████████████████████████████████████████████████████████████████████████████| 800/800 [00:18<00:00, 43.86it/s]\n",
      "100%|██████████████████████████████████████████████████████████████████████████████████████████████████████████████████████| 800/800 [00:18<00:00, 43.77it/s]\n",
      "100%|██████████████████████████████████████████████████████████████████████████████████████████████████████████████████████| 800/800 [00:17<00:00, 44.57it/s]\n",
      "100%|██████████████████████████████████████████████████████████████████████████████████████████████████████████████████████| 800/800 [00:17<00:00, 45.58it/s]\n",
      "100%|██████████████████████████████████████████████████████████████████████████████████████████████████████████████████████| 800/800 [00:17<00:00, 44.82it/s]\n",
      "100%|██████████████████████████████████████████████████████████████████████████████████████████████████████████████████████| 800/800 [00:17<00:00, 44.82it/s]\n",
      "100%|██████████████████████████████████████████████████████████████████████████████████████████████████████████████████████| 800/800 [00:17<00:00, 45.16it/s]\n",
      "100%|██████████████████████████████████████████████████████████████████████████████████████████████████████████████████████| 800/800 [00:17<00:00, 45.40it/s]\n",
      "100%|██████████████████████████████████████████████████████████████████████████████████████████████████████████████████████| 800/800 [00:17<00:00, 44.79it/s]\n",
      "100%|██████████████████████████████████████████████████████████████████████████████████████████████████████████████████████| 800/800 [00:17<00:00, 44.84it/s]\n",
      "100%|██████████████████████████████████████████████████████████████████████████████████████████████████████████████████████| 800/800 [00:17<00:00, 44.89it/s]\n",
      "100%|██████████████████████████████████████████████████████████████████████████████████████████████████████████████████████| 800/800 [00:17<00:00, 44.65it/s]\n",
      "100%|██████████████████████████████████████████████████████████████████████████████████████████████████████████████████████| 800/800 [00:17<00:00, 44.93it/s]\n",
      "100%|██████████████████████████████████████████████████████████████████████████████████████████████████████████████████████| 800/800 [00:17<00:00, 45.61it/s]\n",
      "100%|██████████████████████████████████████████████████████████████████████████████████████████████████████████████████████| 800/800 [00:17<00:00, 45.53it/s]\n",
      "100%|██████████████████████████████████████████████████████████████████████████████████████████████████████████████████████| 800/800 [00:17<00:00, 45.67it/s]\n",
      "100%|██████████████████████████████████████████████████████████████████████████████████████████████████████████████████████| 800/800 [00:17<00:00, 45.34it/s]\n",
      "100%|██████████████████████████████████████████████████████████████████████████████████████████████████████████████████████| 800/800 [00:17<00:00, 45.02it/s]\n",
      "100%|██████████████████████████████████████████████████████████████████████████████████████████████████████████████████████| 800/800 [00:17<00:00, 45.18it/s]\n",
      "100%|██████████████████████████████████████████████████████████████████████████████████████████████████████████████████████| 800/800 [00:17<00:00, 45.10it/s]\n",
      "100%|██████████████████████████████████████████████████████████████████████████████████████████████████████████████████████| 800/800 [00:17<00:00, 45.35it/s]\n",
      "100%|██████████████████████████████████████████████████████████████████████████████████████████████████████████████████████| 800/800 [00:17<00:00, 45.55it/s]\n",
      "100%|██████████████████████████████████████████████████████████████████████████████████████████████████████████████████████| 800/800 [00:17<00:00, 45.61it/s]\n",
      "100%|██████████████████████████████████████████████████████████████████████████████████████████████████████████████████████| 800/800 [00:17<00:00, 45.31it/s]\n",
      "100%|██████████████████████████████████████████████████████████████████████████████████████████████████████████████████████| 800/800 [00:17<00:00, 45.72it/s]\n",
      "100%|██████████████████████████████████████████████████████████████████████████████████████████████████████████████████████| 800/800 [00:17<00:00, 45.31it/s]\n",
      "100%|██████████████████████████████████████████████████████████████████████████████████████████████████████████████████████| 800/800 [00:17<00:00, 45.58it/s]\n",
      "100%|██████████████████████████████████████████████████████████████████████████████████████████████████████████████████████| 800/800 [00:17<00:00, 45.25it/s]\n",
      "100%|██████████████████████████████████████████████████████████████████████████████████████████████████████████████████████| 800/800 [00:17<00:00, 45.32it/s]\n",
      "100%|██████████████████████████████████████████████████████████████████████████████████████████████████████████████████████| 800/800 [00:17<00:00, 44.45it/s]\n",
      "100%|██████████████████████████████████████████████████████████████████████████████████████████████████████████████████████| 800/800 [00:17<00:00, 45.00it/s]\n",
      "100%|██████████████████████████████████████████████████████████████████████████████████████████████████████████████████████| 800/800 [00:17<00:00, 44.93it/s]\n",
      "100%|██████████████████████████████████████████████████████████████████████████████████████████████████████████████████████| 800/800 [00:17<00:00, 45.16it/s]\n",
      "100%|██████████████████████████████████████████████████████████████████████████████████████████████████████████████████████| 800/800 [00:17<00:00, 45.62it/s]\n",
      "100%|██████████████████████████████████████████████████████████████████████████████████████████████████████████████████████| 800/800 [00:17<00:00, 45.46it/s]\n",
      "100%|██████████████████████████████████████████████████████████████████████████████████████████████████████████████████████| 800/800 [00:17<00:00, 45.51it/s]\n",
      "100%|██████████████████████████████████████████████████████████████████████████████████████████████████████████████████████| 800/800 [00:17<00:00, 45.21it/s]\n",
      "100%|██████████████████████████████████████████████████████████████████████████████████████████████████████████████████████| 800/800 [00:17<00:00, 45.46it/s]\n",
      "100%|██████████████████████████████████████████████████████████████████████████████████████████████████████████████████████| 800/800 [00:17<00:00, 45.33it/s]\n",
      "100%|██████████████████████████████████████████████████████████████████████████████████████████████████████████████████████| 800/800 [00:17<00:00, 44.53it/s]\n",
      "100%|██████████████████████████████████████████████████████████████████████████████████████████████████████████████████████| 800/800 [00:17<00:00, 44.87it/s]\n",
      "100%|██████████████████████████████████████████████████████████████████████████████████████████████████████████████████████| 800/800 [00:17<00:00, 44.92it/s]\n",
      "100%|██████████████████████████████████████████████████████████████████████████████████████████████████████████████████████| 800/800 [00:17<00:00, 44.80it/s]\n",
      "100%|██████████████████████████████████████████████████████████████████████████████████████████████████████████████████████| 800/800 [00:17<00:00, 45.08it/s]\n",
      "100%|██████████████████████████████████████████████████████████████████████████████████████████████████████████████████████| 800/800 [00:17<00:00, 45.50it/s]\n",
      "100%|██████████████████████████████████████████████████████████████████████████████████████████████████████████████████████| 800/800 [00:17<00:00, 45.07it/s]\n",
      "100%|██████████████████████████████████████████████████████████████████████████████████████████████████████████████████████| 800/800 [00:17<00:00, 45.42it/s]\n",
      "100%|██████████████████████████████████████████████████████████████████████████████████████████████████████████████████████| 800/800 [00:17<00:00, 45.40it/s]\n",
      "100%|██████████████████████████████████████████████████████████████████████████████████████████████████████████████████████| 800/800 [00:17<00:00, 44.96it/s]\n",
      "100%|██████████████████████████████████████████████████████████████████████████████████████████████████████████████████████| 800/800 [00:17<00:00, 44.99it/s]\n",
      "100%|██████████████████████████████████████████████████████████████████████████████████████████████████████████████████████| 800/800 [00:17<00:00, 45.61it/s]\n",
      "100%|██████████████████████████████████████████████████████████████████████████████████████████████████████████████████████| 800/800 [00:17<00:00, 45.83it/s]"
     ]
    },
    {
     "name": "stdout",
     "output_type": "stream",
     "text": [
      "0.9841001416219439 0.0032617707367515094\n"
     ]
    },
    {
     "name": "stderr",
     "output_type": "stream",
     "text": [
      "\n"
     ]
    }
   ],
   "source": [
    "for time_dilation in [1, 2, 4, 8]:\n",
    "    acc = []\n",
    "    for i, mask in enumerate(np.array_split(masks, masks.shape[0] // 128)):\n",
    "        samples = Euler_Maruyama_sampler(score_model,\n",
    "                                            (9,9,9),\n",
    "                                            mask=mask,\n",
    "                                            batch_size=mask.shape[0],\n",
    "                                            max_time=1,\n",
    "                                            min_time=0.01,\n",
    "                                            time_dilation=time_dilation,\n",
    "                                            num_steps=100,\n",
    "                                            random_order=False,\n",
    "                                            speed_balanced=True,\n",
    "                                            speed_factor=9./2.,\n",
    "                                            device=device)\n",
    "        acc.append(np.mean(sudoku_acc(samples, return_array=True)))\n",
    "    print(np.mean(acc), np.std(acc)/np.sqrt(9))"
   ]
  },
  {
   "cell_type": "code",
   "execution_count": null,
   "metadata": {},
   "outputs": [
    {
     "name": "stderr",
     "output_type": "stream",
     "text": [
      "100%|████████████████████████████████████████████████████████████████████████████████████████████████████████████████████| 3200/3200 [02:08<00:00, 24.87it/s]\n"
     ]
    },
    {
     "name": "stdout",
     "output_type": "stream",
     "text": [
      "0.9961089494163424\n"
     ]
    },
    {
     "name": "stderr",
     "output_type": "stream",
     "text": [
      "100%|████████████████████████████████████████████████████████████████████████████████████████████████████████████████████| 3200/3200 [02:08<00:00, 24.83it/s]\n"
     ]
    },
    {
     "name": "stdout",
     "output_type": "stream",
     "text": [
      "0.9980544747081712\n"
     ]
    },
    {
     "name": "stderr",
     "output_type": "stream",
     "text": [
      "100%|████████████████████████████████████████████████████████████████████████████████████████████████████████████████████| 3200/3200 [02:08<00:00, 24.88it/s]\n"
     ]
    },
    {
     "name": "stdout",
     "output_type": "stream",
     "text": [
      "0.9961089494163424\n"
     ]
    },
    {
     "name": "stderr",
     "output_type": "stream",
     "text": [
      "100%|████████████████████████████████████████████████████████████████████████████████████████████████████████████████████| 3200/3200 [02:08<00:00, 24.84it/s]\n"
     ]
    },
    {
     "name": "stdout",
     "output_type": "stream",
     "text": [
      "0.995136186770428\n"
     ]
    },
    {
     "name": "stderr",
     "output_type": "stream",
     "text": [
      "100%|████████████████████████████████████████████████████████████████████████████████████████████████████████████████████| 3200/3200 [02:10<00:00, 24.58it/s]\n"
     ]
    },
    {
     "name": "stdout",
     "output_type": "stream",
     "text": [
      "0.9961089494163424\n"
     ]
    },
    {
     "name": "stderr",
     "output_type": "stream",
     "text": [
      "100%|████████████████████████████████████████████████████████████████████████████████████████████████████████████████████| 3200/3200 [02:10<00:00, 24.56it/s]\n"
     ]
    },
    {
     "name": "stdout",
     "output_type": "stream",
     "text": [
      "0.9948119325551232\n"
     ]
    },
    {
     "name": "stderr",
     "output_type": "stream",
     "text": [
      "100%|████████████████████████████████████████████████████████████████████████████████████████████████████████████████████| 3200/3200 [02:10<00:00, 24.48it/s]\n"
     ]
    },
    {
     "name": "stdout",
     "output_type": "stream",
     "text": [
      "0.9944413563090606\n"
     ]
    },
    {
     "name": "stderr",
     "output_type": "stream",
     "text": [
      "100%|████████████████████████████████████████████████████████████████████████████████████████████████████████████████████| 3200/3200 [02:10<00:00, 24.53it/s]\n"
     ]
    },
    {
     "name": "stdout",
     "output_type": "stream",
     "text": [
      "0.995136186770428\n"
     ]
    },
    {
     "name": "stderr",
     "output_type": "stream",
     "text": [
      "100%|████████████████████████████████████████████████████████████████████████████████████████████████████████████████████| 3200/3200 [02:10<00:00, 24.55it/s]\n"
     ]
    },
    {
     "name": "stdout",
     "output_type": "stream",
     "text": [
      "0.995244271508863\n"
     ]
    },
    {
     "name": "stderr",
     "output_type": "stream",
     "text": [
      "100%|████████████████████████████████████████████████████████████████████████████████████████████████████████████████████| 3200/3200 [02:09<00:00, 24.80it/s]\n"
     ]
    },
    {
     "name": "stdout",
     "output_type": "stream",
     "text": [
      "0.9957198443579767\n"
     ]
    },
    {
     "name": "stderr",
     "output_type": "stream",
     "text": [
      "100%|████████████████████████████████████████████████████████████████████████████████████████████████████████████████████| 3200/3200 [02:08<00:00, 24.90it/s]\n"
     ]
    },
    {
     "name": "stdout",
     "output_type": "stream",
     "text": [
      "0.9954014856738592\n"
     ]
    },
    {
     "name": "stderr",
     "output_type": "stream",
     "text": [
      "100%|████████████████████████████████████████████████████████████████████████████████████████████████████████████████████| 3200/3200 [02:08<00:00, 24.87it/s]\n"
     ]
    },
    {
     "name": "stdout",
     "output_type": "stream",
     "text": [
      "0.9957846952010376\n"
     ]
    },
    {
     "name": "stderr",
     "output_type": "stream",
     "text": [
      " 71%|█████████████████████████████████████████████████████████████████████████████████▉                                  | 2262/3200 [01:30<00:37, 25.04it/s]"
     ]
    }
   ],
   "source": [
    "sat_single_accs = []\n",
    " \n",
    "for i, mask in enumerate(np.array_split(masks, masks.shape[0] // 256)):\n",
    "    samples = sampler(score_model,\n",
    "                  (9,9,9),\n",
    "                  mask=mask,\n",
    "                  batch_size=mask.shape[0], \n",
    "                  max_time=1,\n",
    "                  min_time=0.01,\n",
    "                  time_dilation=128, \n",
    "                  num_steps=25,\n",
    "                  random_order=False,\n",
    "                  speed_balanced=True, \n",
    "                  speed_factor=9./2.,\n",
    "                  device=device)\n",
    "    \n",
    "    sat_single_accs.append(sudoku_acc(samples, return_array=True))\n",
    "    print(np.mean(sat_single_accs))\n",
    "    "
   ]
  },
  {
   "cell_type": "code",
   "execution_count": 56,
   "metadata": {},
   "outputs": [
    {
     "data": {
      "text/plain": [
       "0.9971"
      ]
     },
     "execution_count": 56,
     "metadata": {},
     "output_type": "execute_result"
    }
   ],
   "source": [
    "np.concatenate(sat_single_accs).mean()"
   ]
  },
  {
   "cell_type": "markdown",
   "metadata": {},
   "source": [
    "## Hard Puzzles"
   ]
  },
  {
   "cell_type": "code",
   "execution_count": 41,
   "metadata": {},
   "outputs": [],
   "source": [
    "#hard puzzles \n",
    "\n",
    "#https://github.com/rasmusbergpalm/recurrent-relational-networks/blob/master/tasks/sudoku/data.py\n",
    "class sudoku:\n",
    "    url = \"https://www.dropbox.com/s/rp3hbjs91xiqdgc/sudoku-hard.zip?dl=1\"  # See generate_hard.py on how this dataset was generated\n",
    "    zip_fname = \"/tmp/sudoku-hard.zip\"\n",
    "    dest_dir = '/tmp/sudoku-hard/'\n",
    "\n",
    "    def __init__(self):\n",
    "        if not os.path.exists(self.dest_dir):\n",
    "            print(\"Downloading data...\")\n",
    "\n",
    "            urllib.request.urlretrieve(self.url, self.zip_fname)\n",
    "            with zipfile.ZipFile(self.zip_fname) as f:\n",
    "                f.extractall('/tmp/')\n",
    "\n",
    "        def read_csv(fname):\n",
    "            print(\"Reading %s...\" % fname)\n",
    "            with open(self.dest_dir + fname) as f:\n",
    "                reader = csv.reader(f, delimiter=',')\n",
    "                return [(q, a) for q, a in reader]\n",
    "\n",
    "        self.train = read_csv('train.csv')\n",
    "        self.valid = read_csv('valid.csv')\n",
    "        self.test = read_csv('test.csv')\n",
    "        "
   ]
  },
  {
   "cell_type": "code",
   "execution_count": 42,
   "metadata": {},
   "outputs": [
    {
     "name": "stdout",
     "output_type": "stream",
     "text": [
      "Reading train.csv...\n",
      "Reading valid.csv...\n",
      "Reading test.csv...\n"
     ]
    }
   ],
   "source": [
    "harddataset = sudoku()"
   ]
  },
  {
   "cell_type": "code",
   "execution_count": 44,
   "metadata": {},
   "outputs": [],
   "source": [
    "query = np.concatenate([np.array(list(harddataset.test[i][0])).astype(np.int64).reshape((1,9,9)) for i in range(len(harddataset.test))])\n",
    "answer = np.concatenate([np.array(list(harddataset.test[i][1])).astype(np.int64).reshape((1,9,9)) for i in range(len(harddataset.test))])"
   ]
  },
  {
   "cell_type": "code",
   "execution_count": 46,
   "metadata": {},
   "outputs": [
    {
     "name": "stderr",
     "output_type": "stream",
     "text": [
      "100%|██████████████████████████████████████████████████████████████████| 200/200 [00:08<00:00, 24.94it/s]"
     ]
    },
    {
     "name": "stdout",
     "output_type": "stream",
     "text": [
      "correct 14.0625 %\n"
     ]
    },
    {
     "name": "stderr",
     "output_type": "stream",
     "text": [
      "\n"
     ]
    }
   ],
   "source": [
    "puzzle = query[:256]\n",
    "mask = torch.FloatTensor(np.vstack([np.zeros(9)*np.nan,np.eye(9)])[puzzle]).cuda()\n",
    "\n",
    "## Generate samples using the specified sampler.\n",
    "score_model.eval()\n",
    "samples = sampler(score_model,\n",
    "                  (9,9,9),\n",
    "                  mask=mask, \n",
    "                  batch_size=mask.shape[0],\n",
    "                  max_time=1,\n",
    "                  min_time=0.01,\n",
    "                  time_dilation=1,\n",
    "                  num_steps=200,\n",
    "                  random_order=False, \n",
    "                  speed_balanced=True, \n",
    "                  speed_factor=9./2.,\n",
    "                  device=device)\n",
    "sudoku_acc(samples)"
   ]
  },
  {
   "cell_type": "code",
   "execution_count": 47,
   "metadata": {},
   "outputs": [
    {
     "name": "stderr",
     "output_type": "stream",
     "text": [
      "100%|████████████████████████████████████████████████████████████████| 1600/1600 [01:04<00:00, 24.94it/s]"
     ]
    },
    {
     "name": "stdout",
     "output_type": "stream",
     "text": [
      "correct 24.21875 %\n"
     ]
    },
    {
     "name": "stderr",
     "output_type": "stream",
     "text": [
      "\n"
     ]
    }
   ],
   "source": [
    "puzzle = query[:256]\n",
    "mask = torch.FloatTensor(np.vstack([np.zeros(9)*np.nan,np.eye(9)])[puzzle]).cuda()\n",
    "\n",
    "## Generate samples using the specified sampler.\n",
    "samples = sampler(score_model,\n",
    "                  (9,9,9),\n",
    "                  mask=mask,\n",
    "                  batch_size=mask.shape[0],\n",
    "                  max_time=1,\n",
    "                  min_time=0.01, \n",
    "                  time_dilation=8,\n",
    "                  num_steps=200, \n",
    "                  random_order=False,\n",
    "                  speed_balanced=True,\n",
    "                  speed_factor=9./2.,\n",
    "                  device=device)\n",
    "sudoku_acc(samples)"
   ]
  },
  {
   "cell_type": "code",
   "execution_count": 50,
   "metadata": {},
   "outputs": [
    {
     "name": "stderr",
     "output_type": "stream",
     "text": [
      "100%|████████████████████████████████████████████████████████████████| 6400/6400 [04:16<00:00, 24.93it/s]"
     ]
    },
    {
     "name": "stdout",
     "output_type": "stream",
     "text": [
      "correct 33.59375 %\n"
     ]
    },
    {
     "name": "stderr",
     "output_type": "stream",
     "text": [
      "\n"
     ]
    }
   ],
   "source": [
    "puzzle = query[:256]\n",
    "mask = torch.FloatTensor(np.vstack([np.zeros(9)*np.nan,np.eye(9)])[puzzle]).cuda()\n",
    "\n",
    "## Generate samples using the specified sampler.\n",
    "samples = sampler(score_model,\n",
    "                  (9,9,9),\n",
    "                  mask=mask,\n",
    "                  batch_size=mask.shape[0],\n",
    "                  max_time=1,\n",
    "                  min_time=0.01,\n",
    "                  time_dilation=64,\n",
    "                  num_steps=100, \n",
    "                  random_order=False, \n",
    "                  speed_balanced=True,\n",
    "                  speed_factor=9./2.,\n",
    "                  device=device)\n",
    "sudoku_acc(samples)"
   ]
  },
  {
   "cell_type": "code",
   "execution_count": 52,
   "metadata": {},
   "outputs": [
    {
     "name": "stderr",
     "output_type": "stream",
     "text": [
      "100%|██████████████████████████████████████████████████████████████| 12800/12800 [08:31<00:00, 25.00it/s]"
     ]
    },
    {
     "name": "stdout",
     "output_type": "stream",
     "text": [
      "correct 34.765625 %\n"
     ]
    },
    {
     "name": "stderr",
     "output_type": "stream",
     "text": [
      "\n"
     ]
    }
   ],
   "source": [
    "puzzle = query[:256]\n",
    "mask = torch.FloatTensor(np.vstack([np.zeros(9)*np.nan,np.eye(9)])[puzzle]).cuda()\n",
    "\n",
    "## Generate samples using the specified sampler.\n",
    "sb = UnitStickBreakingTransform()\n",
    "device = 'cuda'\n",
    "score_model.eval()\n",
    "samples = sampler(score_model,\n",
    "                  (9,9,9), \n",
    "                  mask=mask,\n",
    "                  batch_size=mask.shape[0],\n",
    "                  max_time=1,\n",
    "                  min_time=0.01,\n",
    "                  time_dilation=128,\n",
    "                  num_steps=100,\n",
    "                  random_order=False,\n",
    "                  speed_balanced=True, \n",
    "                  speed_factor=9./2.,\n",
    "                  device=device)\n",
    "sudoku_acc(samples)"
   ]
  },
  {
   "cell_type": "code",
   "execution_count": null,
   "metadata": {},
   "outputs": [
    {
     "name": "stderr",
     "output_type": "stream",
     "text": [
      "100%|██████████████████████████████████████████████████████████████| 12800/12800 [08:36<00:00, 24.77it/s]\n",
      " 34%|█████████████████████▏                                         | 4311/12800 [02:53<05:36, 25.22it/s]"
     ]
    }
   ],
   "source": [
    "single_accs = []\n",
    "for puzzle in np.array_split(query, query.shape[0]//256):\n",
    "    mask = torch.FloatTensor(np.vstack([np.zeros(9)*np.nan,np.eye(9)])[puzzle]).cuda()\n",
    "    samples = sampler(score_model,\n",
    "                  (9,9,9),\n",
    "                  mask=mask,\n",
    "                  batch_size=mask.shape[0],\n",
    "                  max_time=1,\n",
    "                  min_time=0.01,\n",
    "                  time_dilation=128,\n",
    "                  num_steps=100,\n",
    "                  random_order=False,\n",
    "                  speed_balanced=True,\n",
    "                  speed_factor=9./2.,\n",
    "                  device=device)\n",
    "    \n",
    "    single_accs.append(sudoku_acc(samples, return_array=True))"
   ]
  },
  {
   "cell_type": "code",
   "execution_count": 57,
   "metadata": {},
   "outputs": [
    {
     "data": {
      "text/plain": [
       "0.37266666666666665"
      ]
     },
     "execution_count": 57,
     "metadata": {},
     "output_type": "execute_result"
    }
   ],
   "source": [
    "np.concatenate(single_accs).mean()"
   ]
  },
  {
   "cell_type": "code",
   "execution_count": 58,
   "metadata": {},
   "outputs": [
    {
     "data": {
      "text/plain": [
       "0.0036039039189176675"
      ]
     },
     "execution_count": 58,
     "metadata": {},
     "output_type": "execute_result"
    }
   ],
   "source": [
    "np.std(np.concatenate(single_accs))/np.sqrt(np.concatenate(single_accs).shape[0])"
   ]
  },
  {
   "cell_type": "code",
   "execution_count": null,
   "metadata": {
    "scrolled": true
   },
   "outputs": [],
   "source": [
    "#hard puzzles that are not solved in one run can be solved in multiple runs\n",
    "#this is too slow to run on one node. use slurm\n",
    "def rep8(sudoku0, repeat=1):\n",
    "    #generate symmetric sudokus\n",
    "    sudoku1 = sudoku0[...,::-1,:]\n",
    "    sudoku2 = sudoku0.transpose(0,2,1,3)\n",
    "    sudoku3 = sudoku0[...,::-1,:].transpose(0,2,1,3)\n",
    "    sudoku4 = sudoku0[:,::-1,:,:]\n",
    "    sudoku5 = sudoku0[:,::-1,:,:].transpose(0,2,1,3)\n",
    "    sudoku6 = sudoku0[...,::-1,:][:,::-1,:,:]\n",
    "    sudoku7 = sudoku0[...,::-1,:][:,::-1,:,:].transpose(0,2,1,3)\n",
    "    sudoku = np.concatenate([sudoku0, sudoku1,sudoku2,sudoku3,sudoku4,sudoku5,sudoku6,sudoku7], axis=0)\n",
    "    sudoku = np.repeat(sudoku, repeat, axis=0)\n",
    "    return sudoku\n",
    "\n",
    "query = np.concatenate([np.array(list(harddataset.test[i][0])).astype(np.int64).reshape((1,9,9)) for i in range(len(harddataset.test))])\n",
    "solutions = []\n",
    "ntrys = []\n",
    "\n",
    "for i, q in enumerate(np.array_split(query, query.shape[0]//128)):\n",
    "    puzzle = q\n",
    "    mask = torch.FloatTensor(np.vstack([np.zeros(9)*np.nan,np.eye(9)])[puzzle]).cuda()\n",
    "    solution = np.zeros((puzzle.shape[0], 9, 9))\n",
    "    istrue = np.ones(mask.shape[0])==0\n",
    "    ntry = np.zeros(mask.shape[0])\n",
    "\n",
    "    while True:\n",
    "        batchsize = 512\n",
    "        n_rep = batchsize // np.sum(~istrue)\n",
    "        samples = sampler(score_model,\n",
    "                      (9,9,9),\n",
    "                      mask= torch.FloatTensor(np.repeat(mask.cpu().numpy()[~istrue,:], n_rep, axis=0)).cuda(),\n",
    "                      batch_size=np.sum(~istrue) * n_rep,\n",
    "                      max_time=1,\n",
    "                      min_time=0.01,\n",
    "                      time_dilation=8,\n",
    "                      num_steps=200,\n",
    "                      random_order=False,\n",
    "                      speed_balanced=True,\n",
    "                      device=device)\n",
    "        \n",
    "        acc = np.array(sudoku_acc(samples, return_array=True)).reshape((-1,n_rep))\n",
    "        \n",
    "        istrueinds = np.where(~istrue)[0]\n",
    "        for i in range(acc.shape[0]):\n",
    "            if acc[i,:].any():\n",
    "                ind = i * n_rep + np.where(acc[i,:])[0][0]\n",
    "                solution[np.where(~istrue)[0][i]] = samples[ind].detach().cpu().numpy().argmax(-1) \n",
    "                ntry[istrueinds[i]] = ntry[istrueinds[i]] + np.where(acc[i,:])[0] + 1\n",
    "            else:\n",
    "                ntry[istrueinds[i]] = ntry[istrueinds[i]] + acc.shape[1]\n",
    "        istrue[~istrue] =  acc.any(axis=1)\n",
    "\n",
    "        print('correct {} %'.format(100 * np.mean(istrue)))\n",
    "        if np.all(istrue):\n",
    "            print('Bingo!')\n",
    "            break\n",
    "    solutions.append(solution)\n",
    "    ntrys.append(ntry)\n",
    "    \n"
   ]
  },
  {
   "cell_type": "code",
   "execution_count": null,
   "metadata": {},
   "outputs": [],
   "source": [
    "plt.plot((query[:1548,:,:]!=0).sum(axis=-1).sum(axis=-1), np.log10(np.concatenate(ntrys)),'.')"
   ]
  },
  {
   "cell_type": "code",
   "execution_count": null,
   "metadata": {},
   "outputs": [],
   "source": [
    "%load_ext rpy2.ipython"
   ]
  },
  {
   "cell_type": "code",
   "execution_count": null,
   "metadata": {},
   "outputs": [],
   "source": [
    "%%R \n",
    "require(scales)\n",
    "theme_Publication <- function(base_size=14, base_family=\"helvetica\") {\n",
    "      library(grid)\n",
    "      library(ggthemes)\n",
    "      (theme_foundation(base_size=base_size, base_family=base_family)\n",
    "       + theme(plot.title = element_text(face = \"bold\",\n",
    "                                         size = rel(1.2), hjust = 0.5),\n",
    "               text = element_text(),\n",
    "               panel.background = element_rect(colour = NA),\n",
    "               plot.background = element_rect(colour = NA),\n",
    "               panel.border = element_rect(colour = NA),\n",
    "               axis.title = element_text(face = \"bold\",size = rel(1)),\n",
    "               axis.title.y = element_text(angle=90,vjust =2),\n",
    "               axis.title.x = element_text(vjust = -0.2),\n",
    "               axis.text = element_text(), \n",
    "               axis.line = element_line(colour=\"black\"),\n",
    "               axis.ticks = element_line(),\n",
    "               panel.grid.major = element_blank(),\n",
    "               panel.grid.minor = element_blank(),\n",
    "               legend.key = element_rect(colour = NA),\n",
    "               legend.position = \"bottom\",\n",
    "               legend.direction = \"horizontal\",\n",
    "               legend.key.size= unit(1, \"cm\"),\n",
    "               legend.margin = unit(0, \"cm\"),\n",
    "               legend.title = element_text(face=\"italic\"),\n",
    "               plot.margin=unit(c(10,5,5,5),\"mm\"),\n",
    "               strip.background=element_rect(colour=\"#f0f0f0\",fill=\"#f0f0f0\"),\n",
    "               strip.text = element_text(face=\"bold\")\n",
    "          ))\n",
    "      \n",
    "}\n",
    "scale_fill_Publication <- function(...){\n",
    "      discrete_scale(\"fill\",\"Publication\",manual_pal(values = c(\"#386cb0\",\"#fdb462\",\"#7fc97f\",\"#ef3b2c\",\"#662506\",\"#a6cee3\",\"#fb9a99\",\"#984ea3\",\"#ffff33\")), ...)\n",
    "\n",
    "}\n",
    "scale_colour_Publication <- function(...){\n",
    "      discrete_scale(\"colour\",\"Publication\",manual_pal(values = c(\"#386cb0\",\"#fdb462\",\"#7fc97f\",\"#ef3b2c\",\"#662506\",\"#a6cee3\",\"#fb9a99\",\"#984ea3\",\"#ffff33\")), ...)\n",
    "\n",
    "}"
   ]
  },
  {
   "cell_type": "code",
   "execution_count": null,
   "metadata": {},
   "outputs": [],
   "source": [
    "torch.save((solutions, ntrys, ngiven), './hard_sudoku.solutions.pth')"
   ]
  },
  {
   "cell_type": "code",
   "execution_count": null,
   "metadata": {},
   "outputs": [],
   "source": [
    "np.median(np.log10(ntrys[ngiven==24])), np.median(np.log10(ntrys[ngiven==17]))"
   ]
  },
  {
   "cell_type": "code",
   "execution_count": null,
   "metadata": {},
   "outputs": [],
   "source": [
    "%%R -i ngiven,ntrys -w 5 -h 3 --unit in --res 300\n",
    "require(ggplot2)\n",
    "ggplot()+geom_boxplot(aes(x=factor(ngiven, levels= seq(34,17,-1)), y=log10(ntrys)), outlier.shape=NA)+\n",
    "    theme_Publication()+xlab('# of clues given')+ylab('# of samples needed to solve \\n (log10)')\n",
    "ggsave('./figures/hard_sudoku_scaling.pdf', device=cairo_pdf)"
   ]
  }
 ],
 "metadata": {
  "kernelspec": {
   "display_name": "pytorch_ml",
   "language": "python",
   "name": "pytorch_ml"
  },
  "language_info": {
   "codemirror_mode": {
    "name": "ipython",
    "version": 3
   },
   "file_extension": ".py",
   "mimetype": "text/x-python",
   "name": "python",
   "nbconvert_exporter": "python",
   "pygments_lexer": "ipython3",
   "version": "3.9.15"
  }
 },
 "nbformat": 4,
 "nbformat_minor": 2
}
